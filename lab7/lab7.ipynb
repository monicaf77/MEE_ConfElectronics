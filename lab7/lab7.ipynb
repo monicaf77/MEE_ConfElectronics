{
 "cells": [
  {
   "cell_type": "markdown",
   "metadata": {},
   "source": [
    "![figure](../lab7/lab7_figures/politecnico_h-01.png)\n",
    "# **Eletrónica Configurável / Configurable Electronics**\n",
    "#### Mestrado em Engenharia Eletrotécnica / Master in Electrical and Electronic Engineering\n",
    "\n",
    "## **LabWork7 - Introduction to PYNQ and IPyhton**"
   ]
  },
  {
   "cell_type": "markdown",
   "metadata": {},
   "source": [
    "_____"
   ]
  },
  {
   "cell_type": "markdown",
   "metadata": {},
   "source": [
    "## Introduction ##\n",
    "In this tutorial you will learn the basics of PYNQ (Python Productivity for Zynq) framework and embedded systems development, using the TUL PYNQ™-Z2 board ([User manual](https://dpoauwgwqsy2x.cloudfront.net/Download/pynqz2_user_manual_v1_0.pdf)). You will explore the Base Overlay and the Logictools overlay, which are included by default in the PYNQ image for the PYNQ-Z2 board. This notebook will be uploaded to the PYNQ board and you can run it from there.\n",
    "\n",
    "More information regarding the PYNQ framework can be found in the [PYNQ project webpage](www.pynq.io).\n",
    "\n",
    "Here is a detailed photo in which you can see all the PYNQ™-Z2 interfaces.\n",
    "\n",
    "![Figure](../lab7/lab7_figures/fig1.png)\n",
    "\n",
    "\n",
    "### What you need ###\n",
    "To complete this labwork, you will need:\n",
    "\n",
    "* Of course the most important thing - a PYNQ™-Z2 board  \n",
    "* A Micro-SD Card with minimum 8GB.  \n",
    "* Ethernet Cable to connect the board with your laptop or your router if you want internet capability. You will be connecting to the board from your PC/Laptop with Ethernet even if you don’t have internet.\n",
    "* Micro-USB Cable to power up the FPGA using your laptop. If for some case you need high power, then you can use an adapter (7–15V) that can provide sufficient current for your requirements.\n",
    "* One ADC PMOD and one DAC PMOD.\n",
    "\n",
    "<div class=\"alert alert-block alert-warning\">\n",
    "<b>Warning:</b> Never connect both the adapter and the MicroUSB to power up the device. And make sure you configure the Source Selection jumper properly. If you are using the USB then you should configure the jumper next to the switches.\n",
    "</div>\n",
    "\n",
    "\n",
    "### Objectives ###\n",
    "After completing this lab, you will be able to:\n",
    "\n",
    "* Setup your PYNQ board to boot from an SDCard holding a linux image.\n",
    "* Access PYNQ using an Ethernet connection  \n",
    "* Create Jupyter-Notebooks too run commands on the ZYNQ processor remotely \n",
    "* Use the Base Overlay hardware to interface with the outside world.\n",
    "* Use the Logictools overlay to interface with the outside world.\n",
    "\n",
    "\n",
    "In the instructions below **{sources}** refers to `C:\\Xilinx\\MEE_EC\\sources` and **{labs}** refers to `(C:\\Xilinx\\MEE_EC\\labs)`\n",
    "\n",
    "This tutorial was inspired in [Umer Farooq Blog](https://umerfarooqai.medium.com/a-pynq-z2-guide-for-absolute-dummies-part-i-fun-with-leds-and-switches-47dd76abf9a9) and Xilinx [PYNQ Workshop](https://github.com/Xilinx/PYNQ_Workshop) and [Hello World](https://github.com/Xilinx/PYNQ-HelloWorld). You can also get more information on these overlays in the `<PYNQ Jupyter Dashboard>/base` and `<PYNQ Jupyter Dashboard>/logictools`directory on the PYNQ-Z2 board."
   ]
  },
  {
   "cell_type": "markdown",
   "metadata": {},
   "source": [
    "_________________\n"
   ]
  },
  {
   "cell_type": "markdown",
   "metadata": {},
   "source": [
    "## Step 1 - Preparing PYNQ ##"
   ]
  },
  {
   "cell_type": "markdown",
   "metadata": {},
   "source": [
    "### Step 1.1 ###\n",
    "\n",
    "PYNQ-Z2 are based on ZYNQ-7020 SoC that includes ARM Cortex-A9 Processors. This part of the FPGA is called the Processing System (PS). The second part is called Programmable Logic (PL) part that behaves exactly as all other FPGAs. Both PS and PL can talk with each other using AXI Interconnect Interface. So the whole idea is that you leverage the power of Linux on the ARM Processors while accelerates algorithms on the PL. \n",
    "\n",
    "So the first step is to prepare an SD card. This means that you will install an OS on the SD card using some image file and boot the ARM processors from the SD Card. Let us prepare the SD card and get started.\n",
    "\n",
    "\n",
    "* Download the Image file [PYNQ-Z2 v2.7 PYNQ image](http://www.pynq.io/board.html). Once you download the file, please unzip the file to a known location.\n",
    "\n",
    "\n",
    "* The next step is to burn the image into the SD Card. To do that you will need [WIN32 Disk Imager](https://win32diskimager.download/).\n",
    "\n",
    "\n",
    "* Insert your MicroSD card into your laptop MicroSD Card Reader, to **flash the image**. If your laptops does not come with an SD-Card slot, you will need a MicroSD Adapter.\n",
    "\n",
    "\n",
    "* Run **Win32 Disk Imager**. Make the drive letters under the Device correspond to your MicroSD device. Press the button with folder icon on it and select the extracted **.img** file. Press the **Write** button. It should take a couple of minutes.\n",
    "\n",
    "![Figure](../lab7/lab7_figures/fig2.png)"
   ]
  },
  {
   "cell_type": "markdown",
   "metadata": {},
   "source": [
    "### Step 1.2 ###\n",
    "\n",
    "Now you have to setup the board, power it up and make sure it boots from the SD card!\n",
    "\n",
    "\n",
    "* You need to tell your board to boot the ARM Processors from the SD Card. Make sure the jumper is placed in the blue position **(1)** that corresponds to SD.\n",
    "\n",
    "![Figure](../lab7/lab7_figures/fig3.png)\n",
    "\n",
    "\n",
    "* Make sure to specify the correct power source. If you are using MicroUSB, then you should place the jumper at the position shown in blue **(2)**.\n",
    "\n",
    "\n",
    "* Flip your board and insert the MicroSD card in the provided slot **(3)**. There is only one way your MicroSD can go into the slot. You feel a slight click if inserted properly. Don’t push very hard.\n",
    "\n",
    "\n",
    "* Connect one end of the MicroUSB cable to your laptop and the other end to the MicroUSB slot on the kit **(4)**.\n",
    "\n",
    "\n",
    "* If you have a router nearby, then make a direct connection of your development kit Ethernet with the Ethernet port on the router. In the lab, connect your laptop to the WiFi network named **labs** (teacher will provide the password) or to an Ethernet cable and connect the PYNQ-Z2 board to the router with the blue Ethernet cable provided **(5)**. \n",
    "\n",
    "\n",
    "* Check your PC IP address - it should in the range **192.168.228.x**.\n",
    "\n",
    "\n",
    "<div class=\"alert alert-block alert-info\">\n",
    "<b>Info:</b> To check the IP address assigned to your computer in **Windows**, open a Command Window and type **ipconfig**.\n",
    "</div>\n",
    "\n",
    "\n",
    "* Power-on the board **(6)**. The RED LED should immediately turn on. If it doesn’t make sure the power cable is working and the Power Source Jumper is at the correct position. After a while (up to 1 minute), the **DONE LED** should be turned on followed by flashing of 2 Blue LEDs and 4 Green User LEDs. The blue LEDs will flash for a while then will switch off while the green LEDs will remain powered, indicating that the board is ready to be used."
   ]
  },
  {
   "cell_type": "markdown",
   "metadata": {},
   "source": [
    "### Step 1.3 ###\n",
    "\n",
    "When you connect any device to your router using Ethernet, the router assigns an IP address to that device via DHCP Server. In order to talk with the FPGA, you need to find the IP address of the FPGA.\n",
    "\n",
    "\n",
    "* To find your board's IP address you will have to connect via UART. To do that use an HyperTerminal software like [Tera Term](https://tera-term.en.lo4d.com/windows). Connect to the **USB Serial COM** port as shown in the figure (your number may be different!).  \n",
    "\n",
    "\n",
    "* Configure the connection to use **115200baud** and click **Enter** in the Tera Term terminal. You should be able to see the prompt **xilinx@pynq**.\n",
    "\n",
    "\n",
    "* Type **ifconfig** to check your board's IP address. It should be in the same network as your PC (**192.168.228.y**). Take note of this address because you will need it to acess the board via Ethernet. **Close** Tera Term.\n",
    "\n",
    "\n",
    "![Figure](../lab7/lab7_figures/fig4.png)\n",
    "\n",
    "\n",
    "* Now open your favorite browser, type the PYNQ board IP address (**192.168.228.y**) in the address bar and hit enter. If all goes well, you will see the Jupyter-Notebook Running directly from your PYNQ Board and asking for a password. Type **xilinx** and log in into *Jupyter-Notebook Main Screen*.\n",
    "\n",
    "\n",
    "<div class=\"alert alert-block alert-info\">\n",
    "<b>Info:</b> Jupyter-Notebook is a server that runs in Linux. By using a PC/Laptop you can connect to the device using the Jupiter-Notebook Server. You can now write code directly on your PC/Laptop Browser screen. However, it will be executed inside the FPGA Arm Cortex Processors. So basically you are able to run commands on the processors remotely.\n",
    "</div>\n",
    "\n",
    "\n",
    "![Figure](../lab7/lab7_figures/fig0.png)\n",
    "\n",
    "<div class=\"alert alert-block alert-warning\">\n",
    "<b>Note 1:</b> If you have never used a Jupyter-Notebook ther is a good tutorial specific to PYNQ that you can run from the *getting_started* folder in the PYNQ Jupyter landing page and run the first notebook: **getting_started -> 1_jupyter_notebooks**.\n",
    "</div>\n",
    "\n",
    "\n",
    "<div class=\"alert alert-block alert-warning\">\n",
    "<b>Note 2:</b> PYNQ notebook front end allows interactive coding, output visualizations and documentation using text, equations, images, video and other rich media. If you want to check out more advanced features run the third notebook in: **getting_started -> 3_jupyter_notebooks_advanced_features**.\n",
    "</div>"
   ]
  },
  {
   "cell_type": "markdown",
   "metadata": {},
   "source": [
    "____"
   ]
  },
  {
   "cell_type": "markdown",
   "metadata": {},
   "source": [
    "## Step 2 - Jupyter Notebook Features ##"
   ]
  },
  {
   "cell_type": "markdown",
   "metadata": {},
   "source": [
    "### Step 2.1 ###\n",
    "\n",
    "You will now explore the Base overlay to play with the board's LEDs, switches and buttons. You could create a new Jupyter Notebook in PYNQ's dashboard, but it is easier to upload this notebook to PYNQ and run it directly from the board. \n",
    "\n",
    "\n",
    "* Create a new folder in PYNQ Jupyter Notebook Dashboad by slecting **New → Folder**. \n",
    "\n",
    "\n",
    "* A folder called *Untitled Folder* will appear. Click the empty checkbox and select it and press **Rename**. You can call this folder whatever you want. We will call it **pynq_labs**. After renaming, click on *pynq_labs*.\n",
    "\n",
    "\n",
    "* Download **lab7.zip** from Moodle, unzip it to a known location and upload it to **pynq_labs** folder. \n",
    "\n",
    "\n",
    "* Click on *lab7* folder and double-click **lab7.ipynb** to open this notebook. Follow from there.\n",
    "\n",
    "\n",
    "* If you are using an used SD card image, make sure you **Restart and Clear Up de Kernel** to start fresh (as shown in the figure). \n",
    "\n",
    "\n",
    "![Figure](../lab7/lab7_figures/fig2b.png)\n",
    "\n",
    "\n",
    "<div class=\"alert alert-block alert-info\">\n",
    "<b>Info:</b> This guide will not be teaching you python language. It will however explain to you what each line is doing in terms of the board. If you feel uncomfortable after looking at the python syntax, please watch some tutorials.\n",
    "</div>\n",
    "\n",
    "\n",
    "* Start running the next cell. To do that, select the cell and press **Shift + Enter**. It should yield 20 as the result in variable **c**. \n"
   ]
  },
  {
   "cell_type": "code",
   "execution_count": null,
   "metadata": {
    "collapsed": true
   },
   "outputs": [],
   "source": [
    "a=10\n",
    "b=10\n",
    "c=a+b\n",
    "print(c)"
   ]
  },
  {
   "cell_type": "markdown",
   "metadata": {},
   "source": [
    "\n",
    "<div class=\"alert alert-block alert-info\">\n",
    "<b>About cells:</b> One cool feature Jupiter-Notebook provides you is to insert or delete cells. You can write a part of the code and just execute that code. Press the Insert button on the menu and choose Insert Cell Above or Below depending upon your need. You can execute the code on each cell by pressing **Shift + Enter**.\n",
    "</div>\n",
    "\n",
    "* IPython has many useful features. However it is not necessary to know or remember all its features. There is a very comprehensive help system available at all time:"
   ]
  },
  {
   "cell_type": "code",
   "execution_count": null,
   "metadata": {
    "collapsed": true
   },
   "outputs": [],
   "source": [
    "help()      # Python 3.8's help utility"
   ]
  },
  {
   "cell_type": "markdown",
   "metadata": {},
   "source": [
    "* Probably the most common use of the IPython shell is to execute OS shell commands directly from within a code cell in any notebook. Within any code cell, a command that starts with the '!' (exclamation mark) is redirected to the operating system (Linux) bash shell. Try some simple examples:"
   ]
  },
  {
   "cell_type": "code",
   "execution_count": null,
   "metadata": {
    "collapsed": true
   },
   "outputs": [],
   "source": [
    "!pwd    #Directory Information\n",
    "!echo --------------------------------------------\n",
    "!ls -C --color"
   ]
  },
  {
   "cell_type": "code",
   "execution_count": null,
   "metadata": {
    "collapsed": true
   },
   "outputs": [],
   "source": [
    "!cat /proc/cpuinfo  # System Information"
   ]
  },
  {
   "cell_type": "code",
   "execution_count": null,
   "metadata": {
    "collapsed": true
   },
   "outputs": [],
   "source": [
    "!cat /etc/os-release | grep VERSION  # Verify Linux Version"
   ]
  },
  {
   "cell_type": "code",
   "execution_count": null,
   "metadata": {
    "collapsed": true
   },
   "outputs": [],
   "source": [
    "!head -5 /proc/cpuinfo | grep \"BogoMIPS\"   # CPU speed calculation made by the Linux kernel"
   ]
  },
  {
   "cell_type": "code",
   "execution_count": null,
   "metadata": {
    "collapsed": true
   },
   "outputs": [],
   "source": [
    "!cat /proc/meminfo | grep 'Mem*'   # Available DRAM"
   ]
  },
  {
   "cell_type": "markdown",
   "metadata": {},
   "source": [
    "* If you need more Python details you can also run:"
   ]
  },
  {
   "cell_type": "code",
   "execution_count": null,
   "metadata": {
    "collapsed": true
   },
   "outputs": [],
   "source": [
    "import sys\n",
    "print('\\nPython Version:\\n {} \\n\\nPython Platform:\\n{}\\n'.format(sys.version, sys.platform))\n",
    "print ('Python path settings:')\n",
    "for path_entry in sys.path:\n",
    "    print(path_entry)"
   ]
  },
  {
   "cell_type": "markdown",
   "metadata": {},
   "source": [
    "### Step 2.2 ###\n",
    "\n",
    "PYNQ notebook front end allows interactive coding, output visualizations and documentation using text, equations, images, video and other rich media. Code, analysis, debug, documentation and demos are all alive, editable and connected in the Notebooks.\n",
    "\n",
    "* Run the cell to play the \"Guess that number game\""
   ]
  },
  {
   "cell_type": "code",
   "execution_count": null,
   "metadata": {
    "collapsed": true
   },
   "outputs": [],
   "source": [
    "import random\n",
    "\n",
    "the_number = random.randint(0, 10)\n",
    "guess = -1\n",
    "\n",
    "name = input('Player what is your name? ')\n",
    "\n",
    "while guess != the_number:\n",
    "    guess_text = input('Guess a number between 0 and 10: ')\n",
    "    guess = int(guess_text)\n",
    "\n",
    "    if guess < the_number:\n",
    "        print(f'Sorry {name}, your guess of {guess} was too LOW.\\n')\n",
    "    elif guess > the_number:\n",
    "        print(f'Sorry {name}, your guess of {guess} was too HIGH.\\n')\n",
    "    else:\n",
    "        print(f'Excellent work {name}, you won, it was {guess}!\\n')\n",
    "\n",
    "print('Done')"
   ]
  },
  {
   "cell_type": "markdown",
   "metadata": {},
   "source": [
    "* Generate a list of Fibonacci numbers with the next code cell"
   ]
  },
  {
   "cell_type": "code",
   "execution_count": null,
   "metadata": {
    "collapsed": true
   },
   "outputs": [],
   "source": [
    "def generate_fibonacci_list(limit, output=False):\n",
    "    nums = []\n",
    "    current, ne_xt = 0, 1\n",
    "\n",
    "    while current < limit:\n",
    "        current, ne_xt = ne_xt, ne_xt + current\n",
    "        nums.append(current)\n",
    "\n",
    "    if output == True:\n",
    "        print(f'{len(nums[:-1])} Fibonacci numbers below the number '\n",
    "              f'{limit} are:\\n{nums[:-1]}')\n",
    "\n",
    "    return nums[:-1]\n",
    "\n",
    "\n",
    "limit = 1000\n",
    "fib = generate_fibonacci_list(limit, True)"
   ]
  },
  {
   "cell_type": "markdown",
   "metadata": {},
   "source": [
    "* Plot the Fibonacci numbers using the matplotlib library."
   ]
  },
  {
   "cell_type": "code",
   "execution_count": null,
   "metadata": {
    "collapsed": true
   },
   "outputs": [],
   "source": [
    "%matplotlib inline\n",
    "import matplotlib.pyplot as plt\n",
    "from ipywidgets import *\n",
    "\n",
    "limit = 1000000\n",
    "fib = generate_fibonacci_list(limit)\n",
    "plt.plot(fib)\n",
    "plt.plot(range(len(fib)), fib, 'ro')\n",
    "\n",
    "plt.show()"
   ]
  },
  {
   "cell_type": "markdown",
   "metadata": {},
   "source": [
    "* Input and output interaction can be achieved using Ipython widgets"
   ]
  },
  {
   "cell_type": "code",
   "execution_count": null,
   "metadata": {
    "collapsed": true
   },
   "outputs": [],
   "source": [
    "%matplotlib inline\n",
    "import matplotlib.pyplot as plt\n",
    "from ipywidgets import *\n",
    "\n",
    "def update(limit, print_output):\n",
    "    i = generate_fibonacci_list(limit, print_output)\n",
    "    plt.plot(range(len(i)), i)\n",
    "    plt.plot(range(len(i)), i, 'ro')\n",
    "    plt.show()\n",
    "\n",
    "limit=widgets.IntSlider(min=10,max=1000000,step=1,value=10)\n",
    "interact(update, limit=limit, print_output=False);"
   ]
  },
  {
   "cell_type": "markdown",
   "metadata": {},
   "source": [
    "* Interactive debug can be used with ``set_trace`` from the Ipython debugger library. Type **h** in debug prompt for the debug commands list and **q** to exit. Most important commands are **next**, **step** and **continue**."
   ]
  },
  {
   "cell_type": "code",
   "execution_count": null,
   "metadata": {
    "collapsed": true
   },
   "outputs": [],
   "source": [
    "from IPython.core.debugger import set_trace\n",
    "\n",
    "def debug_fibonacci_list(limit):\n",
    "    nums = []\n",
    "    current, ne_xt = 0, 1\n",
    "\n",
    "    while current < limit:\n",
    "        if current > 1000:\n",
    "            set_trace()\n",
    "        current, ne_xt = ne_xt, ne_xt + current\n",
    "        nums.append(current)\n",
    "\n",
    "    print(f'The fibonacci numbers below the number {limit} are:\\n{nums[:-1]}')\n",
    "\n",
    "\n",
    "debug_fibonacci_list(10000)"
   ]
  },
  {
   "cell_type": "markdown",
   "metadata": {},
   "source": [
    "______________"
   ]
  },
  {
   "cell_type": "markdown",
   "metadata": {},
   "source": [
    "## Step 3 - Using the Base Overlay ##\n",
    "\n",
    "The purpose of the base overlay design is to allow PYNQ to use peripherals on a board out-of-the-box. The design includes hardware IP to control peripherals on the target board, and connects these IP blocks to the Zynq PS. Here is a detailed diagram of the Base Overlay, provided within your SD Card.\n",
    "\n",
    "![Figure](../lab7/lab7_figures/fig1a.png)\n",
    "\n"
   ]
  },
  {
   "cell_type": "markdown",
   "metadata": {},
   "source": [
    "### Step 3.1 ###\n",
    "\n",
    "The idea now is to use the SW1 and SW0 to control all four green LEDs. If SW1 is pushed up, LED3 and LED2 turn ON and off otherwise. Similarly, the other two LEDs will behave exactly the same but will be controlled by SW0.\n",
    "\n",
    "* Run the next code cell to import the sleep command, used to generate a delay, and the BaseOverlay which defines the underlying hardware. "
   ]
  },
  {
   "cell_type": "code",
   "execution_count": null,
   "metadata": {
    "collapsed": true
   },
   "outputs": [],
   "source": [
    "from time import sleep\n",
    "from pynq.overlays.base import BaseOverlay\n",
    "base = BaseOverlay(\"base.bit\")"
   ]
  },
  {
   "cell_type": "markdown",
   "metadata": {},
   "source": [
    "* Once an overlay has been instantiated, the **help()** method can be used to discover what is in an overlay about. The help information can be used to interact with the overlay, as it provides a list of the IP and methods available as part of the overlay."
   ]
  },
  {
   "cell_type": "code",
   "execution_count": null,
   "metadata": {
    "collapsed": true
   },
   "outputs": [],
   "source": [
    "help(base)"
   ]
  },
  {
   "cell_type": "markdown",
   "metadata": {},
   "source": [
    "* From the help() print out above, it can be seen that in this case the overlay includes an **leds** instance, and from the report this is an AxiGPIO class. to get more information about the object including details of its API, run:"
   ]
  },
  {
   "cell_type": "code",
   "execution_count": null,
   "metadata": {
    "collapsed": true
   },
   "outputs": [],
   "source": [
    "help(base.leds)"
   ]
  },
  {
   "cell_type": "markdown",
   "metadata": {},
   "source": [
    "* The API can be used to control the object. For example, the following cell will turn on LD0 on the board."
   ]
  },
  {
   "cell_type": "code",
   "execution_count": null,
   "metadata": {
    "collapsed": true
   },
   "outputs": [],
   "source": [
    "base.leds[0].toggle()"
   ]
  },
  {
   "cell_type": "markdown",
   "metadata": {},
   "source": [
    "* Now let's access the four leds using **base.leds[LEDNo]** and store them in a variable:"
   ]
  },
  {
   "cell_type": "code",
   "execution_count": null,
   "metadata": {
    "collapsed": true
   },
   "outputs": [],
   "source": [
    "led0 = base.leds[0] #Corresponds to LED LD0\n",
    "led1 = base.leds[1] #Corresponds to LED LD1\n",
    "led2 = base.leds[2] #Corresponds to LED LD2\n",
    "led3 = base.leds[3] #Corresponds to LED LD3"
   ]
  },
  {
   "cell_type": "markdown",
   "metadata": {},
   "source": [
    "* Similarly we can get reference to the switches by using **base.switches[SWITCHNo]**. Run:"
   ]
  },
  {
   "cell_type": "code",
   "execution_count": null,
   "metadata": {
    "collapsed": true
   },
   "outputs": [],
   "source": [
    "sw0 = base.switches[0] #Corresponds to SW0\n",
    "sw1 = base.switches[1] #Corresponds to SW1"
   ]
  },
  {
   "cell_type": "markdown",
   "metadata": {},
   "source": [
    "* Now we want the program to run forever, polling the switches and making decisions. Use **on()** or **off()** function to power on or power off the LEDs. Since we have a reference to all four LEDs i.e led0, led1, led2, led3 we can power these LEDs by running the next cell and testing the board."
   ]
  },
  {
   "cell_type": "code",
   "execution_count": null,
   "metadata": {
    "collapsed": true
   },
   "outputs": [],
   "source": [
    "while(True):  # All the code below while(True) runs forever\n",
    "    if (sw0.read() == True):   # Reads SW0 and check if it toggled\n",
    "        led0.on()              # IF SW0 is ON --> Turn on LED0\n",
    "        led1.on()              # IF SW0 is ON --> Turn on LED1\n",
    "    else:\n",
    "        led0.off()             # ELSE Turn off LED0\n",
    "        led1.off()             # ELSE Turn off LED1\n",
    "    \n",
    "    if (sw1.read() == True):   # Reads SW1 and check if it toggled\n",
    "        led2.on()              # IF SW1 is ON --> Turn on LED2\n",
    "        led3.on()              # IF SW1 is ON --> Turn on LED3\n",
    "    else:\n",
    "        led2.off()             # ELSE Turn off LED2\n",
    "        led3.off()             # ELSE Turn off LED3"
   ]
  },
  {
   "cell_type": "markdown",
   "metadata": {},
   "source": [
    "\n",
    "* **Interrupt the Kernel** (top menu) to brake the infinite cycle.\n",
    "\n",
    "\n",
    "* Try a different approach now, by using the function **toggle()** and a non-infinite loop. The toggle function will check the state of the LED and, if it is turned ON, it will turn it OFF and vice versa. Run the next cell."
   ]
  },
  {
   "cell_type": "code",
   "execution_count": null,
   "metadata": {
    "collapsed": true
   },
   "outputs": [],
   "source": [
    "led0.off()\n",
    "led1.off()\n",
    "led2.off()\n",
    "led3.off()\n",
    "\n",
    "for i in range(20): # leds will toggle 20 times\n",
    "    led0.toggle()\n",
    "    led1.toggle()\n",
    "    led2.toggle()\n",
    "    led3.toggle()\n",
    "    sleep(.1)       # leds will toggle with a period of 0.1 seconds"
   ]
  },
  {
   "cell_type": "markdown",
   "metadata": {},
   "source": [
    "### Step 3.2 ###\n",
    "\n",
    "We will now create more complete examples with LEDs, switches and buttons.\n",
    "\n",
    "* Start by executing the following command to get a hint of all the peripherals configured by the overlay you are using.\n"
   ]
  },
  {
   "cell_type": "code",
   "execution_count": null,
   "metadata": {
    "collapsed": true
   },
   "outputs": [],
   "source": [
    "help(base)"
   ]
  },
  {
   "cell_type": "markdown",
   "metadata": {},
   "source": [
    "* Run the following code and try to understant what it is doing."
   ]
  },
  {
   "cell_type": "code",
   "execution_count": null,
   "metadata": {
    "collapsed": true
   },
   "outputs": [],
   "source": [
    "from time import sleep\n",
    "from pynq.overlays.base import BaseOverlay\n",
    "base = BaseOverlay(\"base.bit\")\n",
    "\n",
    "# Set the number of LED, Switches and Buttons\n",
    "MAX_LEDS = 4\n",
    "MAX_SWITCHES = 2\n",
    "MAX_BUTTONS = 4\n",
    "\n",
    "# Create lists for each of the IO component groups\n",
    "leds = [base.leds[index] for index in range(MAX_LEDS)]\n",
    "switches = [base.switches[index] for index in range(MAX_SWITCHES)] \n",
    "buttons = [base.buttons[index] for index in range(MAX_BUTTONS)] \n",
    "\n",
    "# LEDs start in the off state\n",
    "for i in range(MAX_LEDS):\n",
    "    leds[i].off()  \n",
    "    \n",
    "# if a slide-switch is on, light the corresponding LED\n",
    "for i in range(MAX_LEDS):\n",
    "    if switches[i%2].read():\n",
    "        leds[i].on()\n",
    "    else:\n",
    "        leds[i].off()\n",
    "\n",
    "# if a button is depressed, toggle the state of the corresponding LED\n",
    "for i in range(MAX_LEDS):\n",
    "    if buttons[i].read():\n",
    "        leds[i].toggle()    "
   ]
  },
  {
   "cell_type": "markdown",
   "metadata": {},
   "source": [
    "* Run the next cell for another example. It allows you to control the LEDs and/or RGB LEDs as follows:\n",
    "    * Button 0 pressed: RGB LEDs change color.\n",
    "    * Button 1 pressed: LEDs shift from right to left (LD0 -> LD3).\n",
    "    * Button 2 pressed: LEDs shift from left to right (LD3 -> LD0).\n",
    "    * Button 3 pressed: Turns off all the LEDS and ends this demo."
   ]
  },
  {
   "cell_type": "code",
   "execution_count": null,
   "metadata": {
    "collapsed": true
   },
   "outputs": [],
   "source": [
    "from time import sleep\n",
    "from pynq.overlays.base import BaseOverlay\n",
    "base = BaseOverlay(\"base.bit\")\n",
    "\n",
    "Delay1 = 0.3\n",
    "Delay2 = 0.1\n",
    "color = 0\n",
    "rgbled_position = [4,5]\n",
    "\n",
    "for led in base.leds:\n",
    "    led.on()    \n",
    "while (base.buttons[3].read()==0):\n",
    "    if (base.buttons[0].read()==1):\n",
    "        color = (color+1) % 8\n",
    "        for led in rgbled_position:\n",
    "            base.rgbleds[led].write(color)\n",
    "            base.rgbleds[led].write(color)\n",
    "        sleep(Delay1)\n",
    "        \n",
    "    elif (base.buttons[1].read()==1):\n",
    "        for led in base.leds:\n",
    "            led.off()\n",
    "            sleep(Delay2)\n",
    "        for led in base.leds:\n",
    "            led.toggle()\n",
    "            sleep(Delay2)\n",
    "            \n",
    "    elif (base.buttons[2].read()==1):\n",
    "        for led in reversed(base.leds):\n",
    "            led.off()\n",
    "            sleep(Delay2)\n",
    "        for led in reversed(base.leds):\n",
    "            led.toggle()\n",
    "            sleep(Delay2)                  \n",
    "    \n",
    "print('End of this demo ...')\n",
    "for led in base.leds:\n",
    "    led.off()\n",
    "for led in rgbled_position:\n",
    "    base.rgbleds[led].off()"
   ]
  },
  {
   "cell_type": "markdown",
   "metadata": {},
   "source": [
    "### Step 3.3 ###\n",
    "\n",
    "In the previous examples the processor either:\n",
    "\n",
    "     1. does not loop and execute the code only once\n",
    "     2. repeats a loop forever: `while(true):`\n",
    "     3. repeats a loop N times: `for i in range(20):`\n",
    "     4. repeats a loop while a condition is true: `while (base.buttons[3].read()==0):`\n",
    "\n",
    "This synchronous coding (single thread) is not very efficient when the processor is waiting for some event to happen (like a button being pressed). This section provides a simple example for using **asyncio** I/O to interact asynchronously with multiple input devices. A task is created for each input device and coroutines are used to process the results. To demonstrate, we will use a flashing LEDs example using interrupts to avoid polling the GPIO devices. The aim is to have holding a button result in the corresponding LED flashing with minimum CPU usage.\n",
    "\n",
    "\n",
    "* As before, we first need to import and instantiate all required classes to interact with the buttons, switches and LEDs and ensure the base overlay is loaded. Run:\n"
   ]
  },
  {
   "cell_type": "code",
   "execution_count": null,
   "metadata": {
    "collapsed": true
   },
   "outputs": [],
   "source": [
    "from pynq import PL\n",
    "from pynq.overlays.base import BaseOverlay\n",
    "base = BaseOverlay(\"base.bit\")"
   ]
  },
  {
   "cell_type": "markdown",
   "metadata": {},
   "source": [
    "* Next step is to create a task that waits for the button to be pressed and flash the LED until the button is released. The `While True` loop ensures that the coroutine keeps running until cancelled so that multiple presses of the same button can be handled. Run the following code now:"
   ]
  },
  {
   "cell_type": "code",
   "execution_count": null,
   "metadata": {
    "collapsed": true
   },
   "outputs": [],
   "source": [
    "import asyncio\n",
    "\n",
    "async def flash_led(num):\n",
    "    while True:\n",
    "        await base.buttons[num].wait_for_value_async(1)\n",
    "        while base.buttons[num].read():\n",
    "            base.leds[num].toggle()\n",
    "            await asyncio.sleep(0.1)\n",
    "        base.leds[num].off() "
   ]
  },
  {
   "cell_type": "markdown",
   "metadata": {},
   "source": [
    "* As there are four buttons we want to check, we create **four tasks**. The function **asyncio.ensure_future** is used to convert the coroutine to a task and schedule it in the event loop. The tasks are stored in an array so they can be referred to later when we want to cancel them. Run the following code:"
   ]
  },
  {
   "cell_type": "code",
   "execution_count": null,
   "metadata": {
    "collapsed": true
   },
   "outputs": [],
   "source": [
    "tasks = [asyncio.ensure_future(flash_led(i)) for i in range(4)]"
   ]
  },
  {
   "cell_type": "markdown",
   "metadata": {},
   "source": [
    "* To make the code run while switch 0 is low, run the following code:"
   ]
  },
  {
   "cell_type": "code",
   "execution_count": null,
   "metadata": {
    "collapsed": true
   },
   "outputs": [],
   "source": [
    "if base.switches[0].read():\n",
    "    print(\"Please set switch 0 low before running\")\n",
    "else:\n",
    "    base.switches[0].wait_for_value(1)"
   ]
  },
  {
   "cell_type": "markdown",
   "metadata": {},
   "source": [
    "<div class=\"alert alert-block alert-info\">\n",
    "<b>Info:</b> While waiting for switch 0 to get high, users can press any push button on the board to flash the corresponding LED. While this loop is running, try opening a terminal (Tera Term) and running **top** to see that python is consuming no CPU cycles while waiting for peripherals. \n",
    "</div>\n",
    "\n",
    "\n",
    "![Figure](../lab7/lab7_figures/fig5.png)\n",
    "\n",
    "\n",
    "* Turn the switch 0 **high**, to interrupt the kernel. "
   ]
  },
  {
   "cell_type": "markdown",
   "metadata": {},
   "source": [
    "### Step 3.4 ###\n",
    "\n",
    "This step shows the basic recording and playback features of the PYNQ-Z2.\n",
    "It uses the audio jack HP+MIC to play back recordings; it can take inputs from the microphone on HP+MIC or LINE_IN. Pre-recorded audio sample can also be taken as input. Moreover, visualization with matplotlib is shown.\n",
    "\n",
    "* Create new audio object."
   ]
  },
  {
   "cell_type": "code",
   "execution_count": null,
   "metadata": {
    "collapsed": true
   },
   "outputs": [],
   "source": [
    "from pynq.overlays.base import BaseOverlay\n",
    "base = BaseOverlay(\"base.bit\")\n",
    "pAudio = base.audio\n",
    "pAudio.set_volume(20)"
   ]
  },
  {
   "cell_type": "markdown",
   "metadata": {},
   "source": [
    "* Load a sample and play the loaded sample. Use phones connected to **HP+MIC** and listen to the recording."
   ]
  },
  {
   "cell_type": "code",
   "execution_count": null,
   "metadata": {
    "collapsed": true
   },
   "outputs": [],
   "source": [
    "pAudio.load(\"/home/xilinx/jupyter_notebooks/base/audio/recording_0.wav\")\n",
    "pAudio.play()"
   ]
  },
  {
   "cell_type": "markdown",
   "metadata": {},
   "source": [
    "<div class=\"alert alert-block alert-info\">\n",
    "<b>Note:</b> You can also record an audio sample if you have a microphone connected to either LINE_IN or HP+MIC.\n",
    "</div>\n",
    "\n",
    "* Since the samples are in 24-bit PCM format, users can play the audio directly in notebook. To do that, run the code:"
   ]
  },
  {
   "cell_type": "code",
   "execution_count": null,
   "metadata": {
    "collapsed": true
   },
   "outputs": [],
   "source": [
    "from IPython.display import Audio as IPAudio\n",
    "IPAudio(\"/home/xilinx/jupyter_notebooks/base/audio/recording_0.wav\")"
   ]
  },
  {
   "cell_type": "markdown",
   "metadata": {},
   "source": [
    "Users can also display the audio data in notebook:\n",
    "1. Plot the audio signal's amplitude over time.\n",
    "2. Plot the frequency spectrum of the audio signal.\n",
    "3. Plot the spectrogram of the audio signal.\n",
    "    \n",
    "\n",
    "<div class=\"alert alert-block alert-info\">\n",
    "<b>Note:</b> The next cell reads the saved audio file and processes it into a numpy array. Note that if the audio sample width is not standard, additional processing is required. In the following example, the sample_width is read from the wave file itself (24-bit dual-channel PCM audio, where sample_width is 3 bytes).\n",
    "</div>\n",
    "\n",
    "* Run this cell to plot the audio signal's amplitude over time."
   ]
  },
  {
   "cell_type": "code",
   "execution_count": null,
   "metadata": {
    "collapsed": true
   },
   "outputs": [],
   "source": [
    "%matplotlib inline\n",
    "import wave\n",
    "import numpy as np\n",
    "import matplotlib\n",
    "import matplotlib.pyplot as plt\n",
    "from scipy.fftpack import fft\n",
    "\n",
    "wav_path = \"/home/xilinx/jupyter_notebooks/base/audio/recording_0.wav\"\n",
    "with wave.open(wav_path, 'r') as wav_file:\n",
    "    raw_frames = wav_file.readframes(-1)\n",
    "    num_frames = wav_file.getnframes()\n",
    "    num_channels = wav_file.getnchannels()\n",
    "    sample_rate = wav_file.getframerate()\n",
    "    sample_width = wav_file.getsampwidth()\n",
    "    \n",
    "temp_buffer = np.empty((num_frames, num_channels, 4), dtype=np.uint8)\n",
    "raw_bytes = np.frombuffer(raw_frames, dtype=np.uint8)\n",
    "temp_buffer[:, :, :sample_width] = raw_bytes.reshape(-1, num_channels, \n",
    "                                                    sample_width)\n",
    "temp_buffer[:, :, sample_width:] = \\\n",
    "    (temp_buffer[:, :, sample_width-1:sample_width] >> 7) * 255\n",
    "frames = temp_buffer.view('<i4').reshape(temp_buffer.shape[:-1])\n",
    "\n",
    "for channel_index in range(num_channels):\n",
    "    plt.figure(num=None, figsize=(15, 3))\n",
    "    plt.title('Audio in Time Domain (Channel {})'.format(channel_index))\n",
    "    plt.xlabel('Time in s')\n",
    "    plt.ylabel('Amplitude')\n",
    "    time_axis = np.arange(0, num_frames/sample_rate, 1/sample_rate)\n",
    "    plt.plot(time_axis, frames[:, channel_index])\n",
    "    plt.show()"
   ]
  },
  {
   "cell_type": "markdown",
   "metadata": {},
   "source": [
    "* Run this cell to plot the frequency spectrum of the audio signal."
   ]
  },
  {
   "cell_type": "code",
   "execution_count": null,
   "metadata": {
    "collapsed": true
   },
   "outputs": [],
   "source": [
    "for channel_index in range(num_channels):\n",
    "    plt.figure(num=None, figsize=(15, 3))\n",
    "    plt.title('Audio in Frequency Demain (Channel {})'.format(channel_index))\n",
    "    plt.xlabel('Frequency in Hz')\n",
    "    plt.ylabel('Magnitude')\n",
    "    temp = fft(frames[:, channel_index])\n",
    "    yf = temp[1:len(temp)//2]\n",
    "    xf = np.linspace(0.0, sample_rate/2, len(yf))\n",
    "    plt.plot(xf, abs(yf))\n",
    "    plt.show()"
   ]
  },
  {
   "cell_type": "markdown",
   "metadata": {},
   "source": [
    "* Run this cell to plot the spectrogram of the audio signal."
   ]
  },
  {
   "cell_type": "code",
   "execution_count": null,
   "metadata": {
    "collapsed": true
   },
   "outputs": [],
   "source": [
    "for channel_index in range(num_channels):\n",
    "    np.seterr(divide='ignore', invalid='ignore')\n",
    "    matplotlib.style.use(\"classic\")\n",
    "    plt.figure(num=None, figsize=(15, 3))\n",
    "    plt.title('Signal Spectogram (Channel {})'.format(channel_index))\n",
    "    plt.xlabel('Time in s')\n",
    "    plt.ylabel('Frequency in Hz')\n",
    "    plt.specgram(frames[:, channel_index], Fs=sample_rate)"
   ]
  },
  {
   "cell_type": "markdown",
   "metadata": {},
   "source": [
    "________"
   ]
  },
  {
   "cell_type": "markdown",
   "metadata": {},
   "source": [
    "## Step 4  - The LogicTools Overlay ##\n",
    "\n",
    "### Step 4.1 ###\n",
    "\n",
    "This step will show how to render digital waveforms using the pynq library. The logictools overlay uses the same format as *WaveDrom* to specify and generate real signals on the board.\n",
    "\n",
    "\n",
    "<div class=\"alert alert-block alert-info\">\n",
    "<b>Note:</b> [WaveDrom](https://wavedrom.com/tutorial.html) is a tool for rendering digital timing waveforms. The waveforms are defined in a simple textual format. \n",
    "</div>\n",
    "\n",
    "\n",
    "* Import the **draw_wavedrom()** method from the pynq library. This is a simple function to add wavedrom diagrams into a jupyter notebook. It utilizes the wavedrom java script library.\n"
   ]
  },
  {
   "cell_type": "code",
   "execution_count": null,
   "metadata": {
    "collapsed": true
   },
   "outputs": [],
   "source": [
    "from pynq.lib.logictools.waveform import draw_wavedrom"
   ]
  },
  {
   "cell_type": "markdown",
   "metadata": {},
   "source": [
    "* Specify and render a **clock-like** waveform"
   ]
  },
  {
   "cell_type": "code",
   "execution_count": null,
   "metadata": {
    "collapsed": true
   },
   "outputs": [],
   "source": [
    "from pynq.lib.logictools.waveform import draw_wavedrom\n",
    "\n",
    "clock = {'signal': [{'name': 'clock_0', 'wave': 'hlhlhlhlhlhlhlhl'}],\n",
    "         'foot': {'tock': 1},\n",
    "         'head': {'text': 'Clock Signal'}}\n",
    "\n",
    "draw_wavedrom(clock)"
   ]
  },
  {
   "cell_type": "markdown",
   "metadata": {},
   "source": [
    "* Add three more signals to the waveform"
   ]
  },
  {
   "cell_type": "code",
   "execution_count": null,
   "metadata": {
    "collapsed": true
   },
   "outputs": [],
   "source": [
    "from pynq.lib.logictools.waveform import draw_wavedrom\n",
    "\n",
    "pattern = {'signal': [{'name': 'clk', 'wave': 'hl' * 8},\n",
    "                      {'name': 'clkn', 'wave': 'lh' * 8},\n",
    "                      {'name': 'data0', 'wave': 'l.......h.......'},\n",
    "                      {'name': 'data1', 'wave': 'h.l...h...l.....'}],\n",
    "           'foot': {'tock': 1},\n",
    "           'head': {'text': 'Pattern'}}\n",
    "\n",
    "draw_wavedrom(pattern)"
   ]
  },
  {
   "cell_type": "markdown",
   "metadata": {},
   "source": [
    "* Add multiple wave groups and spaces"
   ]
  },
  {
   "cell_type": "code",
   "execution_count": null,
   "metadata": {
    "collapsed": true
   },
   "outputs": [],
   "source": [
    "from pynq.lib.logictools.waveform import draw_wavedrom\n",
    "\n",
    "pattern_group = {'signal': [['Group1',\n",
    "                             {'name': 'clk', 'wave': 'hl' * 8},\n",
    "                             {'name': 'clkn', 'wave': 'lh' * 8},\n",
    "                             {'name': 'data0', 'wave': 'l.......h.......'},\n",
    "                             {'name': 'data1', 'wave': 'h.l...h...l.....'}],\n",
    "                            {},\n",
    "                            ['Group2',\n",
    "                             {'name': 'data2', 'wave': 'l...h..l.h......'},\n",
    "                             {'name': 'data3', 'wave': 'l.h.' * 4}]],\n",
    "                 'foot': {'tock': 1},\n",
    "                 'head': {'text': 'Pattern'}}\n",
    "\n",
    "draw_wavedrom(pattern_group)"
   ]
  },
  {
   "cell_type": "markdown",
   "metadata": {},
   "source": [
    "\n",
    "The logictools overlay uses WaveJSON format to specify and generate real signals on the board.\n",
    "\n",
    "![Figure](../lab7/lab7_figures/fig2a.png)\n",
    "\n",
    "As shown in the figure above, the Pattern Generator is an output-only block that specifies a sequence of logic values (patterns) which appear on the output pins of the ARDUINO interface. The logictools API for Pattern Generator accepts WaveDrom specification syntax with some enhancements.\n",
    "\n",
    "The Trace Analyzer is an input-only block that captures and records all the IO signals. These signals may be outputs driven by the generators or inputs to the PL that are driven by external circuits. The Trace Analyzer allows us to verify that the output signals we have specified from the generators are being applied correctly. It also allows us to debug and analyze the operation of the external interface.\n",
    "\n",
    "The signals generated or captured by both the blocks can be displayed in the notebook by populating the WaveJSON dictionary that we have seen in this notebook. Users can access this dictionary through the provided API to extend or modify the waveform with special annotations.\n",
    "\n",
    "We use a subset of the wave tokens that are allowed by WaveDrom to specify the waveforms for the Pattern Generator. However, users can call the draw_waveform() method on the dictionary populated by the Trace Analyzer to extend and modify the dictionary with annotations.\n",
    "\n",
    "In the example below, we are going to generate 3 signals on the Arduino interface pins D0, D1 and D2 using the Pattern Generator. Since all IOs are accessible to the Trace analyzer, we will capture the data on the pins as well. This operation will serve as an internal loopback.\n",
    "\n",
    "\n",
    "* Download the logictools overlay and specify the pattern. The pattern to be generated is specified in the WaveJSON format. The Waveform class is used to display the specified waveform."
   ]
  },
  {
   "cell_type": "code",
   "execution_count": null,
   "metadata": {
    "collapsed": true
   },
   "outputs": [],
   "source": [
    "from pynq.overlays.logictools import LogicToolsOverlay\n",
    "from pynq.lib.logictools import Waveform\n",
    "from pynq.lib.logictools import PatternGenerator\n",
    "\n",
    "logictools_olay = LogicToolsOverlay('logictools.bit')\n",
    "\n",
    "loopback_test = {'signal': [\n",
    "    ['stimulus',\n",
    "     {'name': 'output0', 'pin': 'D0', 'wave': 'lh' * 8},\n",
    "     {'name': 'output1', 'pin': 'D1', 'wave': 'l.h.' * 4},\n",
    "     {'name': 'output2', 'pin': 'D2', 'wave': 'l...h...' * 2}],\n",
    "    {},\n",
    "    ['analysis',\n",
    "     {'name': 'input0', 'pin': 'D0'},\n",
    "     {'name': 'input1', 'pin': 'D1'},\n",
    "     {'name': 'input2', 'pin': 'D2'}]],\n",
    "\n",
    "    'foot': {'tock': 1},\n",
    "    'head': {'text': 'loopback_test'}}\n",
    "\n",
    "waveform = Waveform(loopback_test)\n",
    "waveform.display()"
   ]
  },
  {
   "cell_type": "markdown",
   "metadata": {},
   "source": [
    "<div class=\"alert alert-block alert-info\">\n",
    "<b>Note:</b> Since there are no captured samples at this moment, the analysis group will be empty.\n",
    "</div>\n",
    "\n",
    "* Run the pattern generator and trace the loopback signals. This step populates the WaveJSON dict with the captured trace analyzer samples. "
   ]
  },
  {
   "cell_type": "code",
   "execution_count": null,
   "metadata": {
    "collapsed": true
   },
   "outputs": [],
   "source": [
    "pattern_generator = logictools_olay.pattern_generator\n",
    "\n",
    "pattern_generator.trace(num_analyzer_samples=16)\n",
    "pattern_generator.setup(loopback_test,\n",
    "                        stimulus_group_name='stimulus',\n",
    "                        analysis_group_name='analysis')\n",
    "\n",
    "pattern_generator.run()\n",
    "pattern_generator.show_waveform()"
   ]
  },
  {
   "cell_type": "markdown",
   "metadata": {},
   "source": [
    "* The dict can now serve as an output that we can further modify. "
   ]
  },
  {
   "cell_type": "code",
   "execution_count": null,
   "metadata": {
    "collapsed": true
   },
   "outputs": [],
   "source": [
    "import pprint\n",
    "\n",
    "output_wavejson = pattern_generator.waveform.waveform_dict\n",
    "pprint.pprint(output_wavejson)"
   ]
  },
  {
   "cell_type": "markdown",
   "metadata": {},
   "source": [
    "* Extend the output waveJSON dict with state annotation. Note that the color_dict is a color code map as defined by WaveDrom."
   ]
  },
  {
   "cell_type": "code",
   "execution_count": null,
   "metadata": {
    "collapsed": true
   },
   "outputs": [],
   "source": [
    "state_list = ['S0', 'S1', 'S2', 'S3', 'S4', 'S5', 'S6', 'S7',\n",
    "              'S0', 'S1', 'S2', 'S3', 'S4', 'S5', 'S6', 'S7']\n",
    "\n",
    "color_dict = {'white': '2', 'yellow': '3', 'orange': '4', 'blue': '5'}\n",
    "\n",
    "output_wavejson['signal'].extend([{}, ['Annotation',\n",
    "                                       {'name': 'state',\n",
    "                                        'wave': color_dict['yellow'] * 8 +\n",
    "                                                color_dict['blue'] * 8,\n",
    "                                        'data': state_list}]])\n",
    "draw_wavedrom(output_wavejson)"
   ]
  },
  {
   "cell_type": "markdown",
   "metadata": {},
   "source": [
    "### Step 4.2 ###\n",
    "\n",
    "This step will show how to use the boolean generator to generate a boolean combinational function. The function that is implemented is a 2-input XOR.\n",
    "\n",
    "* Download the logictools overlay"
   ]
  },
  {
   "cell_type": "code",
   "execution_count": null,
   "metadata": {
    "collapsed": true
   },
   "outputs": [],
   "source": [
    "from pynq.overlays.logictools import LogicToolsOverlay\n",
    "from pynq.lib.logictools import BooleanGenerator\n",
    "\n",
    "logictools_olay = LogicToolsOverlay('logictools.bit')"
   ]
  },
  {
   "cell_type": "markdown",
   "metadata": {},
   "source": [
    "* Specify the boolean function of a 2-input XOR. The logic is applied to the on-board pushbuttons and LED, pushbuttons PB0 and PB3 are set as inputs and LED LD2 is set as an output."
   ]
  },
  {
   "cell_type": "code",
   "execution_count": null,
   "metadata": {
    "collapsed": true
   },
   "outputs": [],
   "source": [
    "function = ['LD2 = PB3 ^ PB0']"
   ]
  },
  {
   "cell_type": "markdown",
   "metadata": {},
   "source": [
    "* Instantiate and setup of the boolean generator object. The logic function defined in the previous step is setup using the **setup()** method"
   ]
  },
  {
   "cell_type": "code",
   "execution_count": null,
   "metadata": {
    "collapsed": true
   },
   "outputs": [],
   "source": [
    "boolean_generator = logictools_olay.boolean_generator\n",
    "boolean_generator.setup(function)"
   ]
  },
  {
   "cell_type": "markdown",
   "metadata": {},
   "source": [
    "* Run the boolean generator. Test the function by pressing the pushbuttons. LED 2 (labeled LD2 on the board) should turn on when Push-button 0 or 3 (labeled BNT0 and BTN3 on the board) are pressed, but not both together."
   ]
  },
  {
   "cell_type": "code",
   "execution_count": null,
   "metadata": {
    "collapsed": true
   },
   "outputs": [],
   "source": [
    "boolean_generator.run()"
   ]
  },
  {
   "cell_type": "markdown",
   "metadata": {},
   "source": [
    "* Re-run the entire boolean function generation in a single cell. The boolean expression format can be list or dict. We had used a list in the example above so we will now use a dict.\n"
   ]
  },
  {
   "cell_type": "code",
   "execution_count": null,
   "metadata": {
    "collapsed": true
   },
   "outputs": [],
   "source": [
    "from pynq.overlays.logictools import LogicToolsOverlay\n",
    "from pynq.lib.logictools import BooleanGenerator\n",
    "\n",
    "logictools_olay = LogicToolsOverlay('logictools.bit')\n",
    "boolean_generator = logictools_olay.boolean_generator\n",
    "\n",
    "function = {'XOR_gate': 'LD2 = PB3 ^ PB0'}\n",
    "\n",
    "boolean_generator.setup(function)\n",
    "boolean_generator.run()"
   ]
  },
  {
   "cell_type": "markdown",
   "metadata": {},
   "source": [
    "* Stop the boolean generator"
   ]
  },
  {
   "cell_type": "code",
   "execution_count": null,
   "metadata": {
    "collapsed": true
   },
   "outputs": [],
   "source": [
    "boolean_generator.stop()"
   ]
  },
  {
   "cell_type": "markdown",
   "metadata": {},
   "source": [
    "### Step 4.3 ###\n",
    "\n",
    "This step will show how to use the Pattern Generator to generate patterns on I/O pins. The pattern that will be generated is 3-bit up count performed 4 times.\n",
    "\n",
    "* Download the logictools overlay"
   ]
  },
  {
   "cell_type": "code",
   "execution_count": null,
   "metadata": {
    "collapsed": true
   },
   "outputs": [],
   "source": [
    "from pynq.overlays.logictools import LogicToolsOverlay\n",
    "logictools_olay = LogicToolsOverlay('logictools.bit')"
   ]
  },
  {
   "cell_type": "markdown",
   "metadata": {},
   "source": [
    "* Create a pattern waveform. The pattern to be generated is specified in the waveJSON format.The Waveform class is used to display the specified waveform.\n",
    "\n",
    "<div class=\"alert alert-block alert-info\">\n",
    "<b>Note:</b> Since there are no captured samples at this moment, the analysis group will be empty.\n",
    "</div>"
   ]
  },
  {
   "cell_type": "code",
   "execution_count": null,
   "metadata": {
    "collapsed": true
   },
   "outputs": [],
   "source": [
    "from pynq.lib.logictools import Waveform\n",
    "\n",
    "up_counter = {'signal': [\n",
    "    ['stimulus',\n",
    "        {'name': 'bit0', 'pin': 'D0', 'wave': 'lh' * 8},\n",
    "        {'name': 'bit1', 'pin': 'D1', 'wave': 'l.h.' * 4},\n",
    "        {'name': 'bit2', 'pin': 'D2', 'wave': 'l...h...' * 2}], \n",
    "      \n",
    "    ['analysis',\n",
    "        {'name': 'bit2_loopback', 'pin': 'D17'},\n",
    "        {'name': 'bit1_loopback', 'pin': 'D18'},\n",
    "        {'name': 'bit0_loopback', 'pin': 'D19'}]], \n",
    "\n",
    "    'foot': {'tock': 1},\n",
    "    'head': {'text': 'up_counter'}}\n",
    "\n",
    "waveform = Waveform(up_counter)\n",
    "waveform.display()"
   ]
  },
  {
   "cell_type": "markdown",
   "metadata": {},
   "source": [
    "<div class=\"alert alert-block alert-warning\">\n",
    "<b>Important:</b> The pattern is applied to the Arduino interface, pins D0, D1 and D2 are set to generate a 3-bit count. To check the generated pattern we loop them back to pins D19, D18 and D17 respectively and use the the trace analyzer to view the loopback signals\n",
    "</div>\n",
    "\n",
    "![Figure](../lab7/lab7_figures/fig3a.png)\n",
    "\n",
    "* Use the trace analyzer by calling the trace() method. The analyzer can be set to trace a specific number of samples using, **num_analyzer_samples** argument."
   ]
  },
  {
   "cell_type": "code",
   "execution_count": null,
   "metadata": {
    "collapsed": true
   },
   "outputs": [],
   "source": [
    "pattern_generator = logictools_olay.pattern_generator\n",
    "pattern_generator.trace(num_analyzer_samples=16)"
   ]
  },
  {
   "cell_type": "markdown",
   "metadata": {},
   "source": [
    "* Setup the pattern generator. The pattern generator will work at the default frequency of 10MHz. This can be modified using a frequency argument in the setup() method."
   ]
  },
  {
   "cell_type": "code",
   "execution_count": null,
   "metadata": {
    "collapsed": true
   },
   "outputs": [],
   "source": [
    "pattern_generator.setup(up_counter,\n",
    "                        stimulus_group_name='stimulus',\n",
    "                        analysis_group_name='analysis')"
   ]
  },
  {
   "cell_type": "markdown",
   "metadata": {},
   "source": [
    "* Run and display waveform. The **run()** method will execute all the samples, **show_waveform()** method is used to display the waveforms. "
   ]
  },
  {
   "cell_type": "code",
   "execution_count": null,
   "metadata": {
    "collapsed": true
   },
   "outputs": [],
   "source": [
    "pattern_generator.run()\n",
    "pattern_generator.show_waveform()"
   ]
  },
  {
   "cell_type": "markdown",
   "metadata": {},
   "source": [
    "* Stop the pattern generator. Calling **stop()** will clear the logic values on output pins; however, the waveform will be recorded locally in the pattern generator instance."
   ]
  },
  {
   "cell_type": "code",
   "execution_count": null,
   "metadata": {
    "collapsed": true
   },
   "outputs": [],
   "source": [
    "pattern_generator.stop()"
   ]
  }
 ],
 "metadata": {
  "kernelspec": {
   "display_name": "Python 3",
   "language": "python",
   "name": "python3"
  },
  "language_info": {
   "codemirror_mode": {
    "name": "ipython",
    "version": 3
   },
   "file_extension": ".py",
   "mimetype": "text/x-python",
   "name": "python",
   "nbconvert_exporter": "python",
   "pygments_lexer": "ipython3",
   "version": "3.6.3"
  }
 },
 "nbformat": 4,
 "nbformat_minor": 2
}
