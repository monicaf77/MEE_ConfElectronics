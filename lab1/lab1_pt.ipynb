{
 "cells": [
  {
   "cell_type": "markdown",
   "metadata": {},
   "source": [
    "\n",
    "![figure](../lab1/lab1_figures/politecnico_h-01.png)\n",
    "\n",
    "# **Eletrónica Configurável / Configurable Electronics**\n",
    "#### Mestrado em Engenharia Eletrotécnica / Master in Electrical and Electronic Engineering\n",
    "\n",
    "## **Trabalho Labratorial - Introdução ao Vivado **"
   ]
  },
  {
   "cell_type": "markdown",
   "metadata": {},
   "source": [
    "-----------------------\n"
   ]
  },
  {
   "cell_type": "markdown",
   "metadata": {},
   "source": [
    "## Introdução ##\n",
    "Este laboratório orienta você no processo de uso do Vivado IDE. Serão desenhados circuitos simples para testar as entradas/saídas disponíveis na placa PYNQ-Z2. Você simulará, sintetizará e implementará o projeto com as configurações padrão. Finalmente, você irá gerar o fluxo de bits e baixá-lo no hardware para verificar a funcionalidade do projeto.\n"
   ]
  },
  {
   "cell_type": "markdown",
   "metadata": {},
   "source": [
    "### Objetivos ###\n",
    "\n",
    "Após concluir este laboratório, você será capaz de:\n",
    "* Criar um projeto do Vivado fornecendo modelo(s) HDL e visando um dispositivo FPGA específico\n",
    "* Usar o arquivo Xilinx Design Constraint (XDC) fornecido para restringir os locais dos pinos\n",
    "* Simular o projeto usando o simulador do Vivado\n",
    "* Sintetizar e implementar o circuito\n",
    "* Gerar o fluxo de bits (bitstream)\n",
    "* Configurar a FPGA usando o bitstream gerado e verificar a funcionalidade\n"
   ]
  },
  {
   "cell_type": "markdown",
   "metadata": {},
   "source": [
    "Nas instruções abaixo **{sources}** refere-se a `C:\\Xilinx\\MEE_EC\\sources` e **{labs}** refere-se a `(C:\\Xilinx\\MEE_EC\\labs)`\n"
   ]
  },
  {
   "cell_type": "markdown",
   "metadata": {},
   "source": [
    "### Antes de Começar ###\n",
    "O suporte de placa para o PYNQ-Z2 não está incluído no Vivado por omissão. O arquivo **PYNQ-Z2 Board File** deve ser baixado da página da TUL [TUL webpage](https://www.tulembedded.com/FPGA/ProductsPYNQ-Z2.html). O ficheiro ZIP tem de ser extraído e a pasta copiada para `{Vivado installation}\\data\\boards\\board_files\\`. Nos computadores do laboratório, **{Vivado installation}** refere-se a `C:\\Xilinx\\Vivado\\2020.1`.\n"
   ]
  },
  {
   "cell_type": "markdown",
   "metadata": {},
   "source": [
    "_______________________"
   ]
  },
  {
   "cell_type": "markdown",
   "metadata": {},
   "source": [
    "## Passo 1 - Criar um Projeto Vivado ##"
   ]
  },
  {
   "cell_type": "markdown",
   "metadata": {},
   "source": [
    "### Passo 1.1 ### \n",
    "\n",
    "Nesta seção você criará um projeto novo e vazio para a Placa PYNQ-Z2 no Vivado. Usaremos o Vivado 2020.1 - observe que algumas opções podem variar dependendo da versão que você está usando.\n",
    "\n",
    "* Comece a baixar os arquivos fonte fornecidos (Github) e salve-os em `{sources}/lab1`.\n",
    "\n",
    "\n",
    "* Abra o Vivado a partir de: `Start > All Programs > Xilinx Design Tools > Vivado 2020.1`. \n",
    "\n",
    "\n",
    "* Selecione **Create Project** para começar o wizard. Na caixa de diálogo *Create A New Vivado Project*, selecione **Next**.\n",
    "\n",
    "\n",
    "* Clique no botão *Procurar* do campo de localização do projeto do novo formulário de projeto, navegue até `c:/Xilinx/MEE_EC/labs` e clique em **Select**. Digite *lab1* no campo de nome do projeto. Certifique-se de que a caixa *Create Project Subdirectory* esteja marcada. Clique em **Next**.\n",
    "\n",
    "\n",
    "* Vamos criar um projeto RTL vazio. Especificaremos as fontes posteriormente. Selecione a opção **RTL Project** no formulário *Project Type* e clique em **Next**. Certifique-se de que a caixa *Do not specify sources at this time* está marcada.\n",
    "\n",
    "\n",
    "* No formulário **Default Part**, selecione a opção *Boards* e escolha a placa PYNQ-Z2. Se você não encontrar a placa, faça o download e instale os arquivos da placa, conforme explicado na seção *Antes de começar* deste notebook. Clique em **Next** e depois em **Finish** para criar o projeto Vivado.\n",
    "\n",
    "\n",
    "* Use o Windows Explorer e veja o diretório `{labs}\\lab1`. O Vivado cria automaticamente uma hierarquia de diretórios para este projeto, incluindo o arquivo de projeto **lab1.xpr** (Vivado). Como ainda não precisamos explorá-lo, siga para a próxima etapa."
   ]
  },
  {
   "cell_type": "markdown",
   "metadata": {},
   "source": [
    "### Passo 1.2 ### \n",
    "\n",
    "Nesta seção, você adicionará algumas fontes ao projeto.\n",
    "\n",
    "* No painel *Sources*, selecione **Add Sources** clicando no sinal **+** (veja a figura abaixo). Em seguida, selecione *Add or create design sources* e clique em **Next**.\n",
    "\n",
    "![Figure](../lab1/lab1_figures/fig1.png)\n",
    "\n",
    "* Selecione *Add Files* e navegue até o diretório {sources}\\lab1, selecione *lab1.v*, clique em **OK**. Certifique-se de *marca a caixa* que permite que a fonte seja adicionada ao projeto (**Copy Sources into the project**) e depois clique em **Finish**.\n",
    "\n",
    "\n",
    "* Repita as duas últimas etapas, mas agora selecione *Add or create constraints* e clique em **Next**. Selecione *Add Files* e navegue até o diretório {sources}\\lab1, selecione *lab1.xdc*, clique em **OK** e depois em **Finish**.\n",
    "\n",
    "\n",
    "* O projeto agora tem um módulo superior e um arquivo de restrições. Vamos agora observar esses arquivos. No *Sources pane*, clique duas vezes na fonte `lab1.v` para abrir o arquivo no modo de texto. Observe que as linhas de comentário usam a barra invertida dupla e estão a verde. A linha 6 define o início (marcado com a palavra-chave *module*) e a linha 16 define o final do módulo (marcado com a palavra-chave *endmodule*). As linhas 7-8 definem as portas de entrada e saída, enquanto as linhas 11-14 definem a funcionalidade do circuito.\n",
    "\n",
    "\n",
    "* No painel *Sources*, expanda a pasta *Constraints folder* e clique duas vezes na entrada `lab1.xdc` para abrir o arquivo em modo texto. Este arquivo **.xdc** atribui as localizações físicas de Entrada/Ssída (I/O) na FPGA aos switches e LEDs localizados na placa. Um **.xdc** com todos os I/Os da placa pode ser obtido na [página da TUL](https://www.tulembedded.com/FPGA/ProductsPYNQ-Z2.html).\n",
    "\n",
    "\n",
    "* Expanda a entrada *Open Elaborated Design* nas tarefas *RTL Analysis* do painel *Flow Navigator* e clique em **Schematic**. O módulo será elaborado e uma visão lógica do projeto será exibida. Observe que as entradas do switch passam por portas antes de serem enviadas para os LEDs, conforme especificado no arquivo verilog.\n"
   ]
  },
  {
   "cell_type": "markdown",
   "metadata": {},
   "source": [
    "______"
   ]
  },
  {
   "cell_type": "markdown",
   "metadata": {},
   "source": [
    "## Passo 2 - Simule o Design usando o Simulador do Vivado ##"
   ]
  },
  {
   "cell_type": "markdown",
   "metadata": {},
   "source": [
    "### Passo 2.1 ### \n",
    "\n",
    "Nesta seção você adicionará o arquivo testbench `lab1_tb.v` ao projeto e analisará seu conteúdo.\n",
    "\n",
    "* Clique em **Add Sources** no painel *Sources* ou nas tarefas do *Project Manager* do painel *Flow Navigator*. Selecione a opção *Add or Create Simulation Sources* e clique em **Next**.\n",
    "\n",
    "\n",
    "* No formulário *Add Sources*, selecione *Add or create simulation sources*. Selecione **Add Files** e navegue até a pasta `{sources}\\lab1`. Selecione `lab1_tb.v` e clique em **OK **. Clique em **Finish**.\n",
    "\n",
    "\n",
    "* Usando o Windows Explorer, verifique se o diretório `{labs}/lab1` inclui o diretório lab1.srcs que inclui subdiretórios com todos os arquivos de origem adicionados até agora: o design verilog (`lab1.v`), o testbench (`lab1_tb.v`) e o arquivo de restrições (`lab1.xdc`).\n",
    "\n",
    "\n",
    "* In vivado, select the *Sources* pane and expand the *Simulation Sources* group. The `lab1_tb.v` file is added under this group, and lab1.v is automatically placed in its hierarchy as a **dut** (device under test) instance.\n",
    "\n",
    "No Vivado, selecione o painel *Sources* e expanda o grupo *Simulation Sources*. O arquivo `lab1_tb.v` é adicionado a este grupo, e lab1.v é colocado automaticamente em sua hierarquia como uma instância **DUT** (*device under test*), ou seja, dispositivo em teste.\n",
    "\n",
    "* Clique duas vezes no `lab1_tb` para ver seu conteúdo. O testbench define o tamanho do passo da simulação e a resolução na linha 1. A definição do módulo testbench começa na linha 5 e não possui portas de entrada ou saída (é um testbench!). A linha 14 instancia o DUT (dispositivo/módulo em teste). As linhas 16 a 24 definem a mesma funcionalidade do módulo para o cálculo do valor esperado. As linhas 26 a 37 definem a geração de estímulos e comparam a saída esperada com o que o DUT fornece. A linha 39 termina o testbench. A tarefa **$display** imprimirá a mensagem na janela da consola do simulador quando a simulação for executada.\n"
   ]
  },
  {
   "cell_type": "markdown",
   "metadata": {},
   "source": [
    "### Passo 2.2 ### \n",
    "\n",
    "Nesta seção você simulará o projeto para 200ns usando o simulador Vivado, inspecionará os resultados e monitorará os sinais de nível inferior.\n",
    "\n",
    "* Selecione *Settings* nas tarefas do *Project Manager* do painel *Flow Navigator*. Um formulário de configurações do projeto será exibido. Selecione o formulário de propriedades *Simulation* e defina o valor *Simulation Run Time* para **200ns** na guia *Simulation*. Clique OK**.\n",
    "\n",
    "\n",
    "* Clique em **Run Simulation** nas tarefas do *Project Manager* do painel *Flow Navigator*. Os arquivos testbench e fonte serão compilados e o simulador Vivado será executado uma simulação comportamental (supondo que não haja erros). Você verá uma janela de saída do simulador. Clique no botão **Zoom Fit** e você verá uma saída semelhante à mostrada na figura abaixo.\n",
    "\n",
    "\n",
    "* Você verá quatro visualizações principais: **Scope**, onde a hierarquia do testbench é exibida; **Objects**, onde os sinais de nível superior são exibidos; **Waveform window**, onde as formas de onda simuladas são exibidas; e o **Tcl Console** onde as atividades de simulação são exibidas. Observe que, como o testbench usado é de autoverificação, os resultados são exibidos à medida que a simulação é executada.\n",
    "\n",
    "![Figure](../lab1/lab1_figures/fig2.png)\n",
    "\n",
    "* Selecione **leds[3:0]** na janela da forma de onda, clique com o botão direito do mouse, selecione Radix e, em seguida, selecione *Binary* conforme desejamos ver cada bit de saída. Faça o mesmo para a saída de led esperada.\n",
    "\n",
    "\n",
    "* Observe também que um diretório `lab1.sim` foi criado sob o diretório `{labs}/lab1`, junto com vários diretórios de nível inferior.\n",
    "\n",
    "\n",
    "* Expanda a instância *lab1_tb* na janela *Scopes* e selecione a instância dut. Os sinais **sw[1:0]** e **led[3:0]** serão exibidos na janela *Objects*. Selecione e arraste-os para a janela de forma de onda para monitorar esses sinais de nível inferior.\n",
    "\n",
    "\n",
    "* Na barra de opções dos botões da ferramenta do simulador, digite **300** no campo *simulation run time*, clique no botão suspenso do campo de unidades e selecione **ns**, pois agora queremos executar para 300ns. Clique no botão **Restart** e depois no botão **Run for 300ns**.\n",
    "\n",
    "\n",
    "![Figure](../lab1/lab1_figures/fig3.png)\n",
    "\n",
    "\n",
    "* Feche o simulador selecionando *File > Close Simulation* ou clicando no **X** que pode ser encontrado na faixa azul que identifica a vista de *Simulation*. Clique em **OK** e depois clique em **Discard** para fechá-lo sem salvar a forma de onda.\n",
    "\n"
   ]
  },
  {
   "cell_type": "markdown",
   "metadata": {},
   "source": [
    "______________"
   ]
  },
  {
   "cell_type": "markdown",
   "metadata": {},
   "source": [
    "## Passo 3 - Crie um esquemático (Block Design) com Módulos de Propriedade Intelectual (IP cores) ##"
   ]
  },
  {
   "cell_type": "markdown",
   "metadata": {},
   "source": [
    "### Passo 3.1 ### \n",
    "\n",
    "Vamos agora criar um projeto de bloco de nível superior, que incluirá nosso projeto lab1 e dois núcleos Xilinx IP: **Clocking wizard** - receberá um clk integrado de 125MHz (sysclk) e gerará nosso clock de projeto; **VIO (Virtual Input/Output)** - nos permitirá capturar e gerar sinais do vivado.\n",
    "\n",
    "* No *Flow Navigator*, expanda *IP Integrator* e selecione o comando **Create Block Design**. Na caixa de diálogo, especifique o nome **top_lab1** no campo *Design name* e clique em **OK**.\n",
    "\n",
    "\n",
    "* O Vivado IDE exibirá uma tela *Diagram* em branco. Para adicionar IPs do Catálogo de IPs, você pode clicar com o botão direito do mouse na tela *Diagram* e escolher a opção **Add IP** ou clicar no botão **+**. Faça isso para adicionar três núcleos IP xilinx: **Constant**, **Clocking wizard** e **VIO**.\n",
    "\n",
    "\n",
    "* Clique duas vezes no módulo *xlconstant_0* e crie uma constante de largura de 1 bit com valor **0**.\n",
    "\n",
    "\n",
    "* Clique duas vezes no módulo *clk_wiz_0* para abrir sua janela de configuração. Selecione a guia *Clocking Options* e defina a frequência do relógio de entrada para **125 MHz**. Deixe todas as outras configurações como padrão. Na guia *Output Clocks*, certifique-se de que o clock do clk_out1 esteja configurado para **100 MHz**. Em seguida, clique em **OK** para personalizar o módulo.\n",
    "\n",
    "\n",
    "* Clique duas vezes no módulo *vio_0* para abrir sua janela de configuração. Na guia *General Options*, deixaremos o padrão, pois queremos usar uma sonda de entrada e uma sonda de saída. Para configurar a largura dessas sondas vá para a guia *PROBE_IN PORTS* e a guia *PROBE_OUT PORTS* e configure a entrada para **4 bits** e a saída para **6 bits**. Clique OK**.\n",
    "\n",
    "\n",
    "* No painel *Sources*, selecione o arquivo `lab1.v` e *arraste-o* para o diagrama. Isso adicionará o módulo lab1 ao esquemático como um IP RTL."
   ]
  },
  {
   "cell_type": "markdown",
   "metadata": {},
   "source": [
    "### Passo 3.2 ### \n",
    "\n",
    "Vamos interconectar os módulos e adicionar portas de entrada e saída.\n",
    "\n",
    "* Neste ponto você pode ver que o *Designer Assistance* está disponível. Clique em **Run Connection Automation**. Selecione tudo e clique em **OK**. O Vivado fará algumas conexões para você, mas apenas as genéricas (não pode adivinhar como seu design deve ser conectado).\n",
    "\n",
    "\n",
    "* Elimine a porta de entrada de reset e conecte-a à constante. Estamos fazendo isso porque usaremos todos os botões da placa Pynq-Z2 para outros fins.\n",
    "\n",
    "\n",
    "* Crie algumas novas portas para o circuito. Para fazer isso, clique com o botão direito do mouse na entrada **sw** do módulo *lab1_0* e selecione **Create port** e deixe os padrões. Repita o mesmo procedimento para a saída **led**.\n",
    "\n",
    "\n",
    "* Agora queremos conectar os botões PYNQ_Z2 e leds RGB ao *vio_0*. Para fazer isso, repita a etapa anterior para criar uma porta chamada **btn** conectada ao **probe_in0** e uma porta chamada **rgbled** conectada ao **probe_out0**.\n",
    "\n",
    "\n",
    "* Na barra de ferramentas do diagrama, encontre o botão **Validate Design**. A validação deve ser bem sucedida. Além disso, encontre o botão **Regenerate Layout** para garantir que você tenha um diagrama bonito e organizado. Neste ponto, você deve salvar o design do integrador de IP. Use o comando `File -> Save Block Design` no menu principal para guardar o desenho. Você deve ter algo como:\n",
    "\n",
    "![Figure](../lab1/lab1_figures/fig6.png)\n",
    "\n",
    "    \n",
    "* Modifique o arquivo **.xdc** descomentando as linhas 8 e 9 (relativas à entrada do relógio), as linhas 18 a 23 (relativas aos leds RGB) e as linhas 34 a 37 (relativas aos botões). Verifique também se os nomes das portas usados no *Block Design* correspondem aos usados aqui. **Guarde** o arquivo.\n",
    "\n",
    "\n",
    "* Clique com o botão direito do mouse na fonte `top_lab1.bd` no painel *Sources* e selecione **Create HDL Wrapper**. Clique em **OK** para permitir que o Vivado gerencie o wrapper e a atualização automática. Esta etapa é obrigatória porque o módulo superior deve ser sempre um arquivo HDL.\n",
    "\n",
    "\n",
    "* Por fim, em *IP Integrator*, clique em **Generate Block Design**. A opção *Out of context per IP* pode reduzir significativamente os tempos de execução de síntese porque o cache de IP pode ser usado com esta opção para evitar que a síntese Vivado regenere produtos de saída para IP específico se eles não forem alterados. Use o maior número possível de trabalhos, dependendo de quantos núcleos sua máquina tem disponível e clique em **Generate**.\n",
    "\n",
    "\n",
    "* Este modo cria uma execução de síntese fora de contexto (OOC) e um arquivo de ponto de verificação de projeto (DCP) para cada IP instanciado no projeto. Observe que a guia *Design Runs* lista as execuções do módulo OCC de síntese para cada IP usado no Block Design.\n",
    "\n",
    "\n",
    "<div class=\"alert alert-block alert-info\">\n",
    "<b>Note:</b> A geração dos produtos de saída individuais no modo OOC por IP leva mais tempo do que uma única execução de síntese global; no entanto, as melhorias de tempo de execução são realizadas em execuções subsequentes porque apenas os blocos ou IP atualizados são re-sintetizados em vez de todo o design de nível superior. Além disso, com o Cache de IP habilitado (você pode alterar as configurações do cache de IP na caixa de diálogo Configurações > IP), a síntese do Vivado pode fornecer melhorias de tempo de execução ainda maiores porque o único IP para re-sintetizar foi re-personalizado ou foi impactado de propagação de parâmetros.\n",
    "</div>\n",
    "\n",
    "\n",
    "<div class=\"alert alert-block alert-danger\">\n",
    "<b>Note:</b> Feche o **Block Design** na cruz da fita azul antes de desligar a placa. Sempre que você alterar uma etapa no fluxo de design, feche a visualização anterior e volte para a visualização do **Project Manager**.\n",
    "</div>\n"
   ]
  },
  {
   "cell_type": "markdown",
   "metadata": {},
   "source": [
    "_______"
   ]
  },
  {
   "cell_type": "markdown",
   "metadata": {},
   "source": [
    "## Passo 4 - Sintetize, Implemente e Teste o seu circuito ##"
   ]
  },
  {
   "cell_type": "markdown",
   "metadata": {},
   "source": [
    "### Passo 4.1###\n",
    "\n",
    "\n",
    "Agora sintetizaremos o projeto com a ferramenta de síntese Vivado e analisaremos a saída do Resumo do Projeto. .\n",
    "\n",
    "* Clique em *Settings* no painel *Flow Navigator* e selecione *Synthesis*. Certifique-se de que *flatten_hierarchy* esteja definido como **rebuilt**, o que permite que a hierarquia de design seja nivelada para síntese e depois reconstruída. Isso é mais útil para análise de projeto porque muitas referências lógicas serão mantidas. Inspecione outras opções para ver o que está disponível e observe que há muitas estratégias de síntese disponíveis no menu suspenso *Strategy*. Clique **OK**.\n",
    "\n",
    "\n",
    "* Sintetize seu projeto selecionando a opção **Run Synthesis** no *Flow Navigator*. Clique **OK**. O processo de síntese será executado no `top_lab1_wrapper.v` e em todos os seus arquivos hierárquicos. Quando o processo estiver concluído, uma caixa de diálogo *Síntese Concluída* com três opções será exibida.\n",
    "\n",
    "\n",
    "* Quando terminar, selecione *Open Synthesized design*, clique em **OK**, pois queremos ver a saída da síntese. Clique em *Yes* para fechar o desenho elaborado se a caixa de diálogo for exibida. Abra o esquema e observe que agora ele inclui buffers de entrada e saída, adicionados automaticamente durante o processo de síntese. Observe também que o esquema mostra a mesma hierarquia definida no projeto de bloco, mas as portas lógicas comportamentais no módulo *lab1_0* agora são representadas por FPGA LUTs.\n",
    "\n",
    "\n",
    "* Feche o **Synthesized Design** na faixa azul e volte para a vista do **Gerenciador de Projetos**.\n",
    "\n",
    "\n",
    "* Clique no ícone **Project Summary** no menu principal (símbolo $\\Sigma$). Se você não vir o separador *Project Summary*, selecione `Layout > Layout padrão` e clique no ícone novamente. Verifique a informação disponível, nomeadamente no que diz respeito à Utilização da FPGA.\n"
   ]
  },
  {
   "cell_type": "markdown",
   "metadata": {},
   "source": [
    "### Passo 4.2###\n",
    "\n",
    "Vamos agora implementar o design com a ferramenta de implementação Vivado e analisar a saída do Resumo do Projeto. \n",
    "\n",
    "\n",
    "* Implemente seu projeto selecionando a opção **Run Implementation** no *Flow Navigator*. Quando a implementação estiver concluída, uma caixa de diálogo aparecerá com três opções. Selecione a opção *Open Implemented Design* e clique em **OK**.\n",
    "\n",
    "\n",
    "* Verifique as informações disponíveis no que diz respeito à Utilização do FPGA selecionando *Open Implemented Design > Report Utilizationo*. Quando a caixa de diálogo *Report Utilization* for aberta, clique em **OK**. O relatório de utilização é exibido na parte inferior do Vivado IDE. Você pode selecionar qualquer um dos recursos à esquerda para visualizar sua utilização correspondente. Observe que o relatório de utilização pode ser inferior à estimativa fornecida após a síntese.\n",
    "\n",
    "\n",
    "* Feche o **DImplemented Design** na faixa azul e volte para a vista **Project Manager**.\n",
    "\n",
    "\n",
    "<div class=\"alert alert-block alert-danger\">\n",
    "<b>Note:</b> É uma boa prática de projeto fechar a visualização atual antes de prosseguir para uma nova etapa no fluxo de projeto. Portanto, certifique-se de estar na visualização **Project Manager** ao escolher um processo de projeto/implementação diferente.\n",
    "</div>\n",
    "\n",
    "\n",
    "* Gere arquivo de fluxo de bits com a opção **Generate Bitstream** no *Flow Navigator* e clique em **OK**.\n",
    "\n",
    "\n",
    "* Quando a geração do bitstream estiver concluída, clique em **Cancel** para evitar abrir o projeto implementado ou o gerenciador de hardware (*hardware manager*)."
   ]
  },
  {
   "cell_type": "markdown",
   "metadata": {},
   "source": [
    "### Passo 4.3###\n",
    "\n",
    "Vamos agora conectar a placa e ligá-la. Abra uma sessão de hardware e programe a FPGA. .\n",
    "\n",
    "\n",
    "* Certifique-se de que o cabo micro-USB esteja conectado ao PC e que o jumper **Programming Mode** (próximo ao conector de entrada HDMI) esteja definido como **JTAG**. Ligue a placa.\n",
    "\n",
    "\n",
    "* Selecione a opção *Open Hardware Manager* na tarefa *Program and Debug* do *Flow Navigator* e clique em **OK**. A janela *Hardware Manager* será aberta indicando o status *unconnected* na faixa azul.\n",
    "\n",
    "\n",
    "* Clique no link **Open target** e em **Auto Connect** no menu suspenso. O status de *Hardware Session* muda de desconectado para o nome do servidor e o status do dispositivo indica que ele não está programado (*not programmed*).\n",
    "\n",
    "\n",
    "* Selecione o dispositivo (**xc7z020_1**) e observe a janela *Hardware Device Properties*. Verifique se o `top_lab1_wrapper.bit` está selecionado como o *Programming file* no separador *General* e se o arquivo de testes de depuração correspondente `top_lab1_wrapper.ltx` também está definido.\n",
    "\n",
    "\n",
    "<div class=\"alert alert-block alert-info\">\n",
    "<b>Note:</b> O arquivo de testes precisa corresponder à lógica de depuração no arquivo de bits que está sendo baixado, caso contrário, ele não poderá se conectar. Se qualquer parte da lógica de depuração tiver um erro de design (conexões ausentes, temporização não atendida), o arquivo de testes de depuração pode não ser gerado e não seria possível acessar a lógica de depuração dessa maneira.\n",
    "</div>\n",
    "\n",
    "\n",
    "* Seleccione **Program device** na faixa verde e clique **Program**. \n",
    "\n",
    "\n",
    "* Uma nova janela em branco **hw_vios_1** é aberta. Clique no sinal **+** e adicione todas as sondas. Clique **OK**. Defina todos os bits da porta de saída a serem controlados como botões de alternância (*toggle buttons*).\n",
    "\n",
    "![Figure](../lab1/lab1_figures/fig5.png)\n",
    "\n",
    "\n",
    "* Finalmente, teste pressionando alguns botões/interruptores a bordo e veja como as sondas de entrada e o status do led mudam. Também alterne alguns botões no VIO para controlar os leds RGB integrados. Verifique se o design funciona como esperado. **Divirta-se!**\n",
    "\n",
    "\n",
    "<div class=\"alert alert-block alert-danger\">\n",
    "<b>Note:</b> Feche a janela **hw_vio_1** e feche o *Hardware Manager* na cruz da fita azul antes de desligar a placa.\n",
    "</div>\n"
   ]
  },
  {
   "cell_type": "markdown",
   "metadata": {},
   "source": [
    "_________"
   ]
  },
  {
   "cell_type": "markdown",
   "metadata": {},
   "source": [
    "## Desafios ##"
   ]
  },
  {
   "cell_type": "markdown",
   "metadata": {},
   "source": [
    "### Desafio 1###\n",
    "\n",
    "Altere o projeto `lab1` atual para que a cor de um dos leds RGB mude a cada ciclo de relógio. Como nosso relógio (125MHz) é muito rápido, você precisa implementar um módulo de divisão de relógio (*Clock Divider Module*) para diminuir o relógio para algo próximo de 1–10Hz. Para fazer isso, você pode usar um **Binary Counter** e um **Slicer** da biblioteca Xilinx IP Core. Observe também que você deve desconectar um dos leds RGB do módulo **vio_0**. Como dica, aqui está o diagrama RTL que você deve ter. **Divirta-se!**\n",
    "\n",
    "![Figure](../lab1/lab1_figures/fig7.png)\n",
    "\n",
    "\n",
    "### Desafio 2###\n",
    "\n",
    "Crie um novo projeto Vivado chamado `homew1` e implemente um design que permita controlar o brilho de um LED da placa usando 2 botões. Isso pode ser alcançado gerando quatro ondas PWM com um ciclo de trabalho variável, controlado pelos botões. Você pode definir o brilho do seu LED para muito baixo definindo o Ciclo de trabalho próximo a 0% ou defini-lo para 100% para um LED totalmente aceso. Você pode encontrar o código verilog para um gerador PWM controlado [aqui](https://www.fpga4student.com/2017/08/verilog-code-for-pwm-generator.html). **Divirta-se!**\n",
    "\n"
   ]
  }
 ],
 "metadata": {
  "kernelspec": {
   "display_name": "Python 3",
   "language": "python",
   "name": "python3"
  },
  "language_info": {
   "codemirror_mode": {
    "name": "ipython",
    "version": 3
   },
   "file_extension": ".py",
   "mimetype": "text/x-python",
   "name": "python",
   "nbconvert_exporter": "python",
   "pygments_lexer": "ipython3",
   "version": "3.6.3"
  }
 },
 "nbformat": 4,
 "nbformat_minor": 5
}
