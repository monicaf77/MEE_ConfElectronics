{
 "cells": [
  {
   "cell_type": "markdown",
   "metadata": {},
   "source": [
    "\n",
    "![figure](../lab1/lab1_figures/politecnico_h-01.png)\n",
    "\n",
    "# **Eletrónica Configurável / Configurable Electronics**\n",
    "#### Mestrado em Engenharia Eletrotécnica / Master in Electrical and Electronic Engineering\n",
    "\n",
    "## **LabWork1 - Vivado Design Flow**"
   ]
  },
  {
   "cell_type": "markdown",
   "metadata": {},
   "source": [
    "-----------------------\n"
   ]
  },
  {
   "cell_type": "markdown",
   "metadata": {},
   "source": [
    "## Introduction ##\n",
    "This lab guides you through the process of using Vivado IDE to create a simple design to test the inputs/outputs available on PYNQ-Z2 board. You will simulate, synthesize, and implement the design with default settings. Finally, you will generate the bitstream and download it in to the hardware to verify the design functionality.\n"
   ]
  },
  {
   "cell_type": "markdown",
   "metadata": {},
   "source": [
    "### Objectives ###\n",
    "\n",
    "After completing this lab, you will be able to:\n",
    "* Create a Vivado project sourcing HDL model(s) and targeting a specific FPGA device\n",
    "* Use the provided Xilinx Design Constraint (XDC) file to constrain the pin locations\n",
    "* Simulate the design using the Vivado simulator\n",
    "* Synthesize and implement the design \n",
    "* Generate the bitstream\n",
    "* Configure the FPGA using the generated bitstream and verify the functionality\n"
   ]
  },
  {
   "cell_type": "markdown",
   "metadata": {},
   "source": [
    "In the instructions below **{sources}** refers to `C:\\Xilinx\\MEE_EC\\sources` and **{labs}** refers to  `(C:\\Xilinx\\MEE_EC\\labs)`\n"
   ]
  },
  {
   "cell_type": "markdown",
   "metadata": {},
   "source": [
    "### Before you Begin ###\n",
    "Board support for the PYNQ-Z2 is not included in Vivado by default. The **PYNQ-Z2 Board File** must be downloaded from [TUL webpage](https://www.tulembedded.com/FPGA/ProductsPYNQ-Z2.html). The zip file must be extracted and copied to `{Vivado installation}\\data\\boards\\board_files\\`. Note that in the lab **{Vivado installation}** refers to `C:\\Xilinx\\Vivado\\2020.1`.\n"
   ]
  },
  {
   "cell_type": "markdown",
   "metadata": {},
   "source": [
    "_______________________"
   ]
  },
  {
   "cell_type": "markdown",
   "metadata": {},
   "source": [
    "## Step 1 - Create a Vivado Project ##"
   ]
  },
  {
   "cell_type": "markdown",
   "metadata": {},
   "source": [
    "### Step 1.1 ### \n",
    "\n",
    "In this section you will create a new and empty project for PYNQ-Z2 Board in Vivado. We will use Vivado 2020.1 - note that some options may vary depending on the version you are using.\n",
    "\n",
    "* Start downloading the source files provided (Moodle) and save them in `{sources}/lab1`.\n",
    "\n",
    "\n",
    "* Open Vivado from desktop: `Start > All Programs > Xilinx Design Tools > Vivado 2020.1`. \n",
    "\n",
    "\n",
    "* Click **Create Project** to start the wizard. In *Create A New Vivado Project* dialog box, click **Next**.\n",
    "\n",
    "\n",
    "* Click the browse button of the project location field of the new project form, browse to `c:/Xilinx/MEE_EC/labs` and click **Select**. Enter *lab1* in the project name field.  Make sure that the *Create Project Subdirectory* box is checked. Click **Next**.\n",
    "\n",
    "\n",
    "* We will create an empty RTL project. We will specify sources later. Select **RTL Project** option in the *Project Type* form, and click **Next**. Make sure that the *Do not specify sources at this time* box is checked.\n",
    "\n",
    "\n",
    "* In the **Default Part** form, select the *Boards* option and choose the PYNQ-Z2 board. If you cannot find the board you need to download and install the board files, as explained in the *Before you Begin* section of this notebook. Click **Next** and then **Finish** to create the Vivado project.\n",
    "\n",
    "\n",
    "* Use the Windows Explorer and look at the `{labs}\\lab1 directory`. Vivado automatically creates a directory hierarchy for this project, including the **lab1.xpr** (Vivado) project file. Since we don't need to explore it yet, follow to the next step. "
   ]
  },
  {
   "cell_type": "markdown",
   "metadata": {},
   "source": [
    "### Step 1.2 ### \n",
    "\n",
    "In this section you will add some sources to the project.\n",
    "\n",
    "* In the *Sources* pane select **Add Sources** by clicking the **plus** sign (see figure below). Then select *Add or create design sources* and click **Next**.\n",
    "\n",
    "![Figure](../lab1/lab1_figures/fig1.png)\n",
    "\n",
    "* Select *Add Files* and browse to the {sources}\\lab1 directory, select *lab1.v*, click **OK**. Make sure you **check the box** that allows the source to be added to the project (**Copy Sources into the project**) and then click **Finish**.\n",
    "\n",
    "\n",
    "* Repeat the last two steps but now select *Add or create constraints* and click **Next**. Select *Add Files* and browse to the {sources}\\lab1 directory, select *lab1.xdc*, click **OK** and then **Finish**.  \n",
    "\n",
    "\n",
    "* The project has now a top module, and a constraint file. We will now review these files. In the *Sources pane*, double-click the `lab1.v` entry to open the file in text mode. Note that comment lines use the double backslash and are greyed out. Line 6 defines the beginning (marked with keyword module) and Line 16 defines the end of the module (marked with keyword endmodule). Lines 7-8 define the input and output ports whereas lines 11-14 define the actual functionality. \n",
    "\n",
    "\n",
    "* In the *Sources* pane, expand the *Constraints folder* and double-click the `lab1.xdc` entry to open the file in text mode. This **.xdc** file assigns the physical IO locations on FPGA to the switches and LEDs located on the board. A master **.xdc** can be obtained from [TUL webpage](https://www.tulembedded.com/FPGA/ProductsPYNQ-Z2.html).\n",
    "\n",
    "\n",
    "* Expand the *Open Elaborated Design* entry under the *RTL Analysis* tasks of the *Flow Navigator* pane and click on **Schematic**. The module will be elaborated and a logic view of the design is displayed. Notice that the switch inputs go through gates before being output to LEDs, as specified in the verilog file.\n",
    "\n"
   ]
  },
  {
   "cell_type": "markdown",
   "metadata": {},
   "source": [
    "______"
   ]
  },
  {
   "cell_type": "markdown",
   "metadata": {},
   "source": [
    "## Step 2 - Simulate the Design usign Vivado Simulator ##"
   ]
  },
  {
   "cell_type": "markdown",
   "metadata": {},
   "source": [
    "### Step 2.1 ### \n",
    "\n",
    "In this section you will add the `lab1_tb.v` testbench file to the project and analyse its contents.\n",
    "\n",
    "* Click **Add Sources** under the *Sources* pane or under the *Project Manager* tasks of the *Flow Navigator* pane. Select the *Add or Create Simulation Sources* option and click **Next**.\n",
    "\n",
    "\n",
    "* In the *Add Sources* form, select *Add or create simulation sources\"*. Select **Add Files** and browse to the `{sources}\\lab1` folder. Select `lab1_tb.v` and click **OK**. Click **Finish**.\n",
    "\n",
    "\n",
    "* Using the Windows Explorer, verify that the `{labs}/lab1` directory includes the lab1.srcs directory which includes sub-directories with all the source files added up to now: the verilog design (`lab1.v`), the testbench (`lab1_tb.v`) and the constraints file (`lab1.xdc`).\n",
    "\n",
    "\n",
    "* In vivado, select the *Sources* pane and expand the *Simulation Sources* group. The `lab1_tb.v` file is added under this group, and lab1.v is automatically placed in its hierarchy as a **dut** (device under test) instance.\n",
    "\n",
    "\n",
    "* Double-click on the `lab1_tb` to view its contents. The testbench defines the simulation step size and the resolution in line 1. The testbench module definition begins on line 5 and has no inputs or output ports (it is a testbench!). Line 14 instantiates the DUT (device/module under test). Lines 16 through 24 define the same module functionality for the expected value computation. Lines 26 through 37 define the stimuli generation, and compare the expected output with what the DUT provides. Line 39 ends the testbench. The **$display** task will print the message in the simulator console window when the simulation is run.\n",
    "\n"
   ]
  },
  {
   "cell_type": "markdown",
   "metadata": {},
   "source": [
    "### Step 2.2 ### \n",
    "\n",
    "In this section you will simulate the design for 200ns using the Vivado simulator, inspect the results and monitor lower-level signals.\n",
    "\n",
    "* Select *Settings* under the *Project Manager* tasks of the *Flow Navigator* pane. A project settings form will appear. Select the *Simulation* properties form and set the *Simulation Run Time* value to **200ns** in the *Simulation* tab. Click **OK**.\n",
    "\n",
    "\n",
    "* Click on **Run Simulation** under the *Project Manager* tasks of the *Flow Navigator* pane. The testbench and source files will be compiled and the Vivado simulator will be run a behavioral simulation (assuming no errors). You will see a simulator output window. Click on the **Zoom Fit** button and you will see output similar to the one shown below.\n",
    "\n",
    "\n",
    "* You will see four main views: **Scope**, where the testbench hierarchy is displayed; **Objects**, where top-level signals are displayed; **Waveform window**, where the simulated waveforms are diplayed; and the **Tcl Console** where the simulation activities are displayed. Notice that since the testbench used is self-checking, the results are displayed as the simulation is run.\n",
    "\n",
    "![Figure](../lab1/lab1_figures/fig2.png)\n",
    "\n",
    "* Select **leds[3:0]** in the waveform window, right-click, select Radix, and then select *Binary* as we want to see each output bit. Do the same for the expected led output.\n",
    "\n",
    "\n",
    "* Also notice that a `lab1.sim` directory was created under the `{labs}/lab1` directory, along with several lower-level directories. \n",
    "\n",
    "\n",
    "* Expand the *lab1_tb* instance in the *Scopes* window and select the dut instance. The **sw[1:0]** and **led[3:0]** signals will be displayed in the *Objects* window. Select and drag them into the waveform window to monitor those lower-level signals.\n",
    "\n",
    "\n",
    "* On the simulator tool buttons ribbon bar, type **300** over in the *simulation run time* field, click on the drop-down button of the units field and select **ns**, since we want now to run for 300ns. Click on the **Restart** button and then on the **Run for 300ns** button.\n",
    "\n",
    "\n",
    "![Figure](../lab1/lab1_figures/fig3.png)\n",
    "\n",
    "\n",
    "* Close the simulator by selecting *File > Close Simulation* or by clicking on the **X** that can be found on the blue ribbon that identifies the *Simulation* view. Click **OK** and then click **Discard** to close it without saving the waveform.\n",
    "\n"
   ]
  },
  {
   "cell_type": "markdown",
   "metadata": {},
   "source": [
    "______________"
   ]
  },
  {
   "cell_type": "markdown",
   "metadata": {},
   "source": [
    "## Step 3 - Create a Block Design with IP cores ##"
   ]
  },
  {
   "cell_type": "markdown",
   "metadata": {},
   "source": [
    "### Step 3.1 ### \n",
    "\n",
    "We will now create a top level block Design, which will include our lab1 design and two Xilinx IP cores: **Clocking wizard** - will take an onboard clk of 125MHz (sysclk), and generate our design clock; **VIO (Virtual Input/Output)** - will allow us to capture and generate signals from vivado. \n",
    "\n",
    "* In the *Flow Navigator*, expand *IP Integrator* and select **Create Block Design** command. In the dialog box, specify **top_lab1** name in the *Design name* field and click **OK**.\n",
    "\n",
    "\n",
    "* The Vivado IDE will display a blank *Diagram* canvas. To add IPs from the IP Catalog, you can right-click in the *Diagram* canvas and choose **Add IP** option or click on the **+** button. Do this to add three xilinx IP cores: **Constant**, **Clocking wizard** and **VIO**.\n",
    "\n",
    "\n",
    "* Double click the *xlconstant_0* module and create a 1 bit width constant with value **0**.\n",
    "\n",
    "\n",
    "* Double click the *clk_wiz_0* module to open its configuration window. Select the *Clocking Options* tab and set the input clock fequency to **125 MHz**. Leave all the other configurations as default. In the *Output Clocks* tab make sure that the clk_out1 clock is set to **100 MHz**. Then click **OK** to costumize the module. \n",
    "\n",
    "\n",
    "* Double click the *vio_0* module to open its cnfiguration window. In the *General Options* tab we will leave the default as we want to use one input probe and one outut probe. To configure the width of these probes go to the *PROBE_IN PORTS* tab and *PROBE_OUT PORTS* tab and configure the input to **4 bits** and the output to **6 bits**. Click **OK**.\n",
    "\n",
    "\n",
    "* In the Sources pane select the `lab1.v` file and **drag it** to the diagram. This will add the lab1 module to the design as a RTL IP."
   ]
  },
  {
   "cell_type": "markdown",
   "metadata": {},
   "source": [
    "### Step 3.2 ### \n",
    "\n",
    "We will interconnect the modules and add input and output ports. \n",
    "\n",
    "* At this point you can see that the *Designer Assistance* is available. Click the **Run Connection Automation**. Select all and click **OK**. Vivado will make some connections for you but only the generic ones (it cannot guess how your design is expected to be connected).\n",
    "\n",
    "\n",
    "* Delete the reset input port and connect it to the constant. We are doing this because we will be using all the buttons in Pynq-Z2 board for other purposes.\n",
    "\n",
    "\n",
    "* Create some new ports to the design. To do that right-click on the **sw** input of *lab1_0* module and select **Create port** and leave the defauts. Repeat the same procedure for the **led** output. \n",
    "\n",
    "\n",
    "* Now we want to connect the PYNQ_Z2 buttons and RGB leds to the *vio_0*. To do that repeat the previous step to create a port named **btn** connected to the **probe_in0** and a port named **rgbled** connected to the **probe_out0**. \n",
    "\n",
    "\n",
    "* In the diagram toolbar find the **Validate Design** button. The validation should be successful. Also, find the **Regenerate Layout** button to make sure you have a nice and tidy diagram. At this point you should save the IP integrator design. Use the `File -> Save Block Design` command from the main menu to **save** the design. You should have something like:\n",
    "\n",
    "![Figure](../lab1/lab1_figures/fig6.png)\n",
    "\n",
    "    \n",
    "* Modify the **.xdc** file by uncommenting lines 8 and 9 (relative to the clock input), lines 18 to 23 (relative to the RGB leds) and lines 34 to 37 (relative to buttons). Also make sure the port names used in the *Block Design* match the ones used here. **Save** the file.\n",
    "\n",
    "\n",
    "* Right click on the `top_lab1.bd` source in the *Sources* pane and select **Create HDL Wrapper**. Click **OK** to let Vivado manage the wrapper and auto-update. This step is mandatory because the top module must always be an HDL file.\n",
    "\n",
    "\n",
    "* Finally, Under *IP Integrator*, click **Generate Block Design**. The option *Out of context per IP* can significantly reduce synthesis run times because the IP cache can be used with this option to prevent Vivado synthesis from regenerating output products for specific IP if they do not change. Use as many number of jobs as you can, depending on how many cores your machine has available, and click **Generate**.\n",
    "\n",
    "\n",
    "* This mode creates an out-of-context (OOC) synthesis run and design checkpoint file (DCP) for every IP that is instantiated in the design. Note that the *Design Runs* tab lists synthesis OCC module runs for each IP used in the Block Design.\n",
    "\n",
    "\n",
    "<div class=\"alert alert-block alert-info\">\n",
    "<b>Note:</b> Generation of the individual output products in OOC per IP mode takes longer than a single global synthesis run; however, runtime improvements are realized in subsequent runs because only the updated blocks or IP are re-synthesized instead of the whole top-level design. In addition, with the IP Cache enabled (you can change the IP cache settings from the Settings > IP dialog box), Vivado synthesis can provide even greater runtime improvements because the only IP to re-synthesize have been re-customized or were impacted from parameter propagation.\n",
    "</div>\n",
    "\n",
    "\n",
    "<div class=\"alert alert-block alert-danger\">\n",
    "<b>Note:</b> Close the **Block Design** in the blue ribbon cross before turning of the board. Whenever you change a step in the design flow, you should close the previous view and get back to **Project Manager** view.\n",
    "</div>\n"
   ]
  },
  {
   "cell_type": "markdown",
   "metadata": {},
   "source": [
    "_______"
   ]
  },
  {
   "cell_type": "markdown",
   "metadata": {},
   "source": [
    "## Step 4 - Synthesize, Implement and Test your Design ##"
   ]
  },
  {
   "cell_type": "markdown",
   "metadata": {},
   "source": [
    "### Step 4.1 ###\n",
    "\n",
    "We will now synthesize the design with the Vivado synthesis tool and analyze the Project Summary output.    .\n",
    "\n",
    "* Click on the *Settings* in the *Flow Navigator* pane and select *Synthesis*. Make sure that the *flatten_hierarchy* is set to **rebuilt**, which allows the design hierarchy to be flattened for synthesis and then rebuilt. This is more useful for design analysis because many logical references will be maintained. Inspect other options to see what is available and note that there are many synthesis strategies available under *Strategy* dropdown menu. Click **OK**.\n",
    "\n",
    "\n",
    "* Synthesize your design by selecting **Run Synthesis** option from the *Flow Navigator*. Click **OK**. The synthesis process will be run on the `top_lab1_wrapper.v` and all its hierarchical files.  When the process is completed a Synthesis Completed dialog box with three options will be displayed.\n",
    "\n",
    "\n",
    "* When it finishes select *Open Synthesized design*, click **OK** as we want to look at the synthesis output. Click Yes to close the elaborated design if the dialog box is displayed. Open the schematic and note that it now includes input and output buffers, added automatically during the synthesis process. Note also that the schematic shows the same hierarchy as defined in the Block Design, but the behavioral logic gates in *lab1_0* module are now represented by FPGA LUTs.\n",
    "\n",
    "\n",
    "* Close the **Synthesized Design** in the blue ribbon and get back to the **Project Manager** view.\n",
    "\n",
    "\n",
    "* Click on the **Project Summary** icon on the main menu (symbol $\\Sigma$). If you don’t see the *Project Summary* tab then select `Layout > Default Layout` and click on the icon again. Check the available information, particularly in what concerns to FPGA Utilization.\n"
   ]
  },
  {
   "cell_type": "markdown",
   "metadata": {},
   "source": [
    "### Step 4.2###\n",
    "\n",
    "We will now implement the design with the Vivado implementation tool and analyze the Project Summary output.    .\n",
    "\n",
    "\n",
    "* Implement your design by selecting **Run Implementation** option from the *Flow Navigator*. When the implementation is completed, a dialog box will appear with three options. Select the *Open Implemented Design* option and click **OK**.\n",
    "\n",
    "\n",
    "* Check the available information in what concerns to FPGA Utilization by selecting *Open Implemented Design > Report Utilization*. When the *Report Utilization* dialog box opens click **OK**. The utilization report is displayed at the bottom of the Vivado IDE. You can select any of the resources on the left to view its corresponding utilization. Note that the utilization report can be lower than the estimate given after synthesis.\n",
    "\n",
    "\n",
    "* Close the **Implemented Design** in the blue ribbon and get back to the **Project Manager** view.\n",
    "\n",
    "\n",
    "<div class=\"alert alert-block alert-danger\">\n",
    "<b>Note:</b> It is a good design practice to close the current view before proceeding to a new step in the design flow. So make sure you are in the **Project Manager** view when choosing a different design/implementation process.\n",
    "</div>\n",
    "\n",
    "\n",
    "* Generate bitstream file with **Generate Bitstream** option from the *Flow Navigator* ad click **OK**.\n",
    "\n",
    "\n",
    "* When the bitstream generation is completed click **Cancel** to avoid opening the implemented design or the hardware manager."
   ]
  },
  {
   "cell_type": "markdown",
   "metadata": {},
   "source": [
    "### Step 4.3###\n",
    "\n",
    "We will now Connect the board and power it ON. Open a hardware session and program the FPGA.    .\n",
    "\n",
    "\n",
    "* Make sure that the micro-USB cable is connected to the PC and the **Programming Mode** jumper (next to HDMI in connector) is set to **JTAG**. Turn on the board.\n",
    "\n",
    "\n",
    "* Select the *Open Hardware Manager* option in the *Program and Debug* task from the *Flow Navigator* and click **OK**. The *Hardware Manager* window will open indicating *unconnected* status in the blue ribbon.\n",
    "\n",
    "\n",
    "* Click on the **Open target** link, then **Auto Connect** from the dropdown menu. The *Hardware Session* status changes from unconnected to the server name and the device status indicates that it is *not programmed*.\n",
    "\n",
    "\n",
    "* Select the device (**xc7z020_1**) and observe the *Hardware Device Properties* window. Verify that the `top_lab1_wrapper.bit` is selected as the *Programming file* in the *General* tab and that the matching debug probes file `top_lab1_wrapper.ltx` is also defined.\n",
    "\n",
    "<div class=\"alert alert-block alert-info\">\n",
    "<b>Note:</b> Probes file needs to match the debugging logic in the bitfile being downloaded, otherwise it wont be able to connect. If any part of the debugging logic has a design error (missing connections, unmet timing), the debug probes file might not be generated, and it would not be possible to access debugging logic this way.\n",
    "</div>\n",
    "\n",
    "* Select **Program device** from the green ribbon and click **Program**. \n",
    "\n",
    "\n",
    "* A new blank **hw_vios_1** window opens. Click the **plus** sign and add all probes. Click **OK**. Set all output port bits to be controlled as toggle buttons.\n",
    "\n",
    "![Figure](../lab1/lab1_figures/fig5.png)\n",
    "\n",
    "\n",
    "* Finally, test pressing some buttons/switches onboard, and see how the input probes and led status change. Also toggle some buttons on the VIO to control the RGB onboard leds. Check if the design works as expected. **Enjoy!**\n",
    "\n",
    "\n",
    "<div class=\"alert alert-block alert-danger\">\n",
    "<b>Note:</b> Close the **hw_vio_1** window and close *Hardware Manager* in the blue ribbon cross before turning of the board.\n",
    "</div>\n"
   ]
  },
  {
   "cell_type": "markdown",
   "metadata": {},
   "source": [
    "_________"
   ]
  },
  {
   "cell_type": "markdown",
   "metadata": {},
   "source": [
    "## Homework Challenges ##"
   ]
  },
  {
   "cell_type": "markdown",
   "metadata": {},
   "source": [
    "### Challenge 1###\n",
    "Change the current `lab1` project so that the color of one of the the RGB leds is changes at every clock cycle. Because our clock (125MHz) is very fast you need to implement a Clock Divider Module to slow down the clock to somewhere near 1–10Hz. To do that you can use a **Binary Counter** and a **Slicer** from the Xilinx IP Core library. Note also that you should disconnect one of the RGB leds from the **vio_0** module. As a hint, here is the RTL diagram you should have. **Have fun!**\n",
    "\n",
    "![Figure](../lab1/lab1_figures/fig7.png)\n",
    "\n",
    "\n",
    "### Challenge 2###\n",
    "Create a new Vivado project named `homew1` and implement a design that allows you to contol the brightness of one board LED using 2 buttons. This  can be achieved by generating four PWM waves with a varying duty cycle, controlled by the buttons. You can set the brightness of your LED to very low by setting the Duty Cycle close to 0%, or set it to 100% for a fully lit LED. You can find verilog code for a controlled PWM generator [here](https://www.fpga4student.com/2017/08/verilog-code-for-pwm-generator.html). **Have fun!**\n",
    "\n"
   ]
  }
 ],
 "metadata": {
  "kernelspec": {
   "display_name": "Python 3",
   "language": "python",
   "name": "python3"
  },
  "language_info": {
   "codemirror_mode": {
    "name": "ipython",
    "version": 3
   },
   "file_extension": ".py",
   "mimetype": "text/x-python",
   "name": "python",
   "nbconvert_exporter": "python",
   "pygments_lexer": "ipython3",
   "version": "3.6.3"
  }
 },
 "nbformat": 4,
 "nbformat_minor": 5
}
