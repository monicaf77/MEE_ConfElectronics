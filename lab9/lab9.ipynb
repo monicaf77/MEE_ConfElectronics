{
 "cells": [
  {
   "cell_type": "markdown",
   "metadata": {},
   "source": [
    "![figure](../lab9/lab9_figures/politecnico_h-01.png)\n",
    "# **Eletrónica Configurável / Configurable Electronics**\n",
    "#### Mestrado em Engenharia Eletrotécnica / Master in Electrical and Electronic Engineering\n",
    "\n",
    "## **LabWork9 -  Define APIs to Custom Overlays**"
   ]
  },
  {
   "cell_type": "markdown",
   "metadata": {},
   "source": [
    "________________\n"
   ]
  },
  {
   "cell_type": "markdown",
   "metadata": {},
   "source": [
    "## Introduction ##\n",
    "In this tutorial you will learn how to make custom overlays and use them in PYNQ. This notebook can be uploaded to the PYNQ board and you can run it from there.\n",
    "\n",
    "\n",
    "### Objectives ###\n",
    "After completing this lab, you will be able to:\n",
    "\n",
    "* Create Overlays in Vivado with custom hardware;\n",
    "* Create APIs in Python for your GPIO or AXI custom hardware;\n",
    "* Transfer data between PS and PL using GPIO and AXI;\n",
    "\n",
    "\n",
    "In the instructions below **{sources}** refers to `C:\\Xilinx\\MEE_EC\\sources` and **{labs}** refers to `(C:\\Xilinx\\MEE_EC\\labs)`\n",
    "\n",
    "This tutorial was inspired in [Cathal McCabe](https://www.youtube.com/watch?v=UBsCNPWudww) and [Yun Qu](https://www.youtube.com/watch?v=RPTuhVeoGTI) videos, and makes use of HDL code taken from [myhdl](https://www.myhdl.org/docs/examples/jc2.html) and [allaboutfpga](https://allaboutfpga.com/vhdl-code-for-clock-divider/)."
   ]
  },
  {
   "cell_type": "markdown",
   "metadata": {},
   "source": [
    "________________\n"
   ]
  },
  {
   "cell_type": "markdown",
   "metadata": {},
   "source": [
    "## Step 1 - Create a Vivado Overlay and control the IP using GPIO##\n",
    "\n",
    "\n",
    "### Step 1.1 ###\n",
    "\n",
    "In this first step you will create a Vivado project with a Zynq processor and a Jhonson counter as the custom RTL module.\n",
    "\n",
    "* **Open** Vivado and create a new Vivado RTL project in **{labs}** with name **lab9**. Do not specify sources at this time and choose the PYNQ-Z2 board as the default part. Click **Finish**\n",
    "\n",
    "\n",
    "* **Create Block Design** named **lab9bd** and local to project. Click **OK**.\n",
    "\n",
    "\n",
    "* Click **Add IP** and add a **ZYNQ7 Processing System** to the design canvas.\n",
    "\n",
    "\n",
    "* **Run Block Automation** with all the default option. Click **OK**.\n",
    "\n",
    "\n",
    "* In the *Sources* pan, click on **Add Sources -> Add or create design sources** and add the file **johnson_counter.v** provided in {sources}\\lab9. Click **Finish**.\n",
    "\n",
    "\n",
    "* You should now have this file in your design sources list. **Drag** this file into your Block Design in order to instantiate it, as shown below.\n",
    "\n",
    "\n",
    "![Figure](../lab9/lab9_figures/fig1.png)\n",
    "\n",
    "\n",
    "* Select the *jc2_0* output, right click-it and select **Create port**. Change the name to **leds[3:0]**.\n",
    "\n",
    "\n",
    "* Double-click the *processing_system7_0*. Select the *MIO Configuration* page and then expand **I/O Peripherals -> GPIO** and scheck the box near **EMIO GPIO** with **Width=64**. Click **OK**.\n",
    "\n",
    "\n",
    "<div class=\"alert alert-block alert-info\">\n",
    "<b>Note:</b> EMIO is an extended MIO (Multiuse I/O). Both MIO and EMIO are part of the PS, but MIO can be directly connected to the pins of the Zynq chip, and has nothing to do with PL; and EMIO needs to pass the IO of the PL to connect to the pins of the Zynq chip. So, EMIO is the interface between PS and PL.\n",
    "</div>\n",
    "\n",
    "\n",
    "![Figure](../lab9/lab9_figures/fig2.png)\n",
    "\n",
    "\n",
    "Back in the *Block Design* we will need to add a clock divider because the ZYNQ PS output clock (**FCLK_CLK0**) will be too fast to clock the johnson counter (as we want to see the counter's output in the LEDs).We could use a counter IP and a slicer, as done in previous labs, but we will now try a different approach.\n",
    "\n",
    "\n",
    "* We will use the **clock_divider.vhd** file provided in {sources}/lab9. So add it to the project and drag it to the block design canvas, following the same steps described earlier for the johnson counter. Ignore if you get a warning message when instantiating the module.\n",
    "\n",
    "\n",
    "* Open the vhdl file and observe the code. Note that this module generates an output clock with period equal to 50000 periods of the input clock. So, if this input clock is 100MHz, the output clock is 2kHz! This division factor is defined as a *Generic* so it can be updated when double-clicking the module in the *Block Design*.\n",
    "\n",
    "\n",
    "* Connect the clock signals as shown in the figure bellow.\n",
    "\n",
    "\n",
    "![Figure](../lab9/lab9_figures/fig3.png)\n",
    "\n",
    "\n",
    "* In the *Block Design* expand the output **GPIO_0** of the *processing_system7_0* and note that there are 3 groups of 64bit signals:\n",
    "    * a 64 bit input bus (GPIO_I);\n",
    "    * a 64 bit output bus (GPIO_O);\n",
    "    * a 64 bit inout bus (GPIO_T);\n",
    "    \n",
    "<div class=\"alert alert-block alert-info\">\n",
    "<b>Note:</b> GPIO_I[0], GPIO_O[0] and GPIO_T[0] actually correspond to only one EMIO. If you only use this EMIO to connect an LED as an output, then you only need to draw GPIO_O[0] on the PL.\n",
    "</div>\n",
    "\n",
    "\n",
    "* Add **3 slice IP** blocks to select the specific GPIO wires from the 64 bit bundle to drive the *goleft*, *goright*, and *stop* inputs of our johnson counter module. \n",
    "\n",
    "\n",
    "* Give apropriate names to these 3 slice IPs (**left**, **right** and **stop**) and connect their inputs to the **GPIO_O** bus. Their outputs should be connected to the correspondent input of the johnson counter.\n",
    "\n",
    "\n",
    "* Double-click each slice IP module and configure then according to:\n",
    "    * slice *left* -> **Din Width=64** and **Din from 0 to 0**\n",
    "    * slice *right* -> **Din Width=64** and **Din from 1 to 1**\n",
    "    * slice *stop* -> **Din Width=64** and **Din from 2 to 2**\n",
    "    \n",
    "\n",
    "* The processing system AXI port will not be used, so you should remove it to avoid errors during design validation. To do that, **double-click** the ZYNQ processor, select the **PS-PL Configuration** page and remove the check in **AXI Non SecureEnablement -> GP Master AXI Interface -> M AXI GP0 interface**. click **OK**.\n",
    "\n",
    "![Figure](../lab9/lab9_figures/fig4.png)\n",
    "\n",
    "\n",
    "* **Validate** the design and **Regenerate** the layout. In the *Sources* pane, select the **lab9bd**, right-click on it and **Create HDL wrapper**. You should have the following final block design and *Sources* pane.\n",
    "\n",
    "\n",
    "![Figure](../lab9/lab9_figures/fig5.png)\n",
    "\n",
    "\n",
    "* **Run Synhesis** for this design (it may take a while)) and choose **Open Synthesized Design ** when synthesis completes.\n",
    "\n",
    "\n",
    "* Now we need to add pin constraints for the LEDs. We could add a **.XDC** file, as done in previous labs, but we will try something different. In the top right corner choose **I/O Planning** view to open the *Package view* and the available pins.\n",
    "\n",
    "\n",
    "* Choose the pins to be assigned to the 4 LEDs according to the information provided by **TUL** in the Master XDC file (provided in lab1). You can do this by assigning values in the **Package Pin** and **I/O Std** columns, as shown in the figure below.\n",
    "\n",
    "![Figure](../lab9/lab9_figures/fig6.png)\n",
    "\n",
    "\n",
    "* **Save** the design and provide a name to the created new XDC file as **pin_constraints**. Click **OK**. Note that this file appears now in the *Constraints* section of the *Sources* pane and has the usual contents.\n",
    "\n",
    "\n",
    "* **Close** the synthesized design (cross in the blue ribbon) and run **Generate Bitstream**.\n"
   ]
  },
  {
   "cell_type": "markdown",
   "metadata": {},
   "source": [
    "### Step 1.2 ##\n",
    "\n",
    "In this step you will export the overlay and create a Python API to interface with the PL module, through the Processor.\n",
    "\n",
    "\n",
    "* Connect PYNQ to your computer via USB and to the router via ethernet cable. Make sure the SD card is inserted and **Turn-On** the board.\n",
    "\n",
    "\n",
    "* Wait for boot to complete and then connect to the board using any browser of your choice (as explained in lab7).\n",
    "\n",
    "\n",
    "* Create a folder **lab9** inside the **pynq_labs** folder. Inside create a new folder and name it **bitstream**.\n",
    "\n",
    "\n",
    "* Using windows explorer go to Vivado lab9 project's folder `{labs}\\lab9\\lab9.runs\\impl_1`, locate the **lab9bd_wrapper.bit** file and upload it to the PYNQ folder **lab9\\bitstream**. Rename it simply as **lab9bd.bit**.\n",
    "\n",
    "\n",
    "* Using windows explorer go to Vivado lab9 project's folder `{labs}\\lab9\\lab9.srcs\\sources_1\\bd\\lab9bd\\hw_handoff`, locate the **lab9bd.hwh** file and upload it to the PYNQ folder **lab9\\bitstream**. \n",
    "\n",
    "\n",
    "* Go back to Vivado and select **File -> Export -> Export Block Design** and click **OK**. This will create a **lab9bd.tcl** file in your working directory. \n",
    "\n",
    "\n",
    "* Make sure you have uploaded all files to ZYNQ folder **lab9\\bitstream** (**.bit**, **.tcl** and **.hwh** which should have the same name: **lab9db**).\n",
    "\n",
    "\n",
    "* In PYNQ, create a new **Python 3** file in **lab9** folder and call it **lab9.ipynb**. Alternatively you can copy this notebook to PYNQ and run the following commands from there.\n",
    "\n",
    "\n",
    "* Start by importing the overlay, running the following:\n"
   ]
  },
  {
   "cell_type": "code",
   "execution_count": null,
   "metadata": {
    "collapsed": true
   },
   "outputs": [],
   "source": [
    "from pynq import Overlay\n",
    "ol= Overlay(\"./bitstream/lab9bd.bit\")"
   ]
  },
  {
   "cell_type": "markdown",
   "metadata": {},
   "source": [
    "* Run the next cell to import the GPIO class and map pin numbers.\n",
    "\n",
    "\n",
    "<div class=\"alert alert-block alert-info\">\n",
    "<b>Note:</b> The PS GPIO use a Linux kernel module to control the GPIO. This means that the operating system assigns a number to the GPIO at run time. Before using the PS GPIO, the Linux pin number must be mapped to the Python GPIO instance. The **get_gpio_pin()** function which is part of the GPIO class is used to map the PS pin number to the Linux pin number.\n",
    "</div>"
   ]
  },
  {
   "cell_type": "code",
   "execution_count": null,
   "metadata": {
    "collapsed": true
   },
   "outputs": [],
   "source": [
    "from pynq import GPIO\n",
    "\n",
    "left=GPIO(GPIO.get_gpio_pin(0), 'out')\n",
    "right=GPIO(GPIO.get_gpio_pin(1), 'out')\n",
    "stop=GPIO(GPIO.get_gpio_pin(2), 'out')"
   ]
  },
  {
   "cell_type": "markdown",
   "metadata": {},
   "source": [
    "* Now you can control the johnson counter. First you need to set the inputs inactive. If you observe the verilog code of this johnson counter you will see that directions are set with zeros and the stop input is also activated with zeros. So run:"
   ]
  },
  {
   "cell_type": "code",
   "execution_count": null,
   "metadata": {
    "collapsed": true
   },
   "outputs": [],
   "source": [
    "left.write(1)  #left direction not set\n",
    "right.write(1) #Right direction not set\n",
    "stop.write(0)  #The counter is stopped"
   ]
  },
  {
   "cell_type": "markdown",
   "metadata": {},
   "source": [
    "* To start the counter you must set a direction (set either **left** or **right** input to zero) and write a one to **stop** input:"
   ]
  },
  {
   "cell_type": "code",
   "execution_count": null,
   "metadata": {
    "collapsed": true
   },
   "outputs": [],
   "source": [
    "left.write(0) #Direction is left\n",
    "stop.write(1) #The counter is not stopped - it is running"
   ]
  },
  {
   "cell_type": "markdown",
   "metadata": {},
   "source": [
    "Note that the LEDs have turned on but the frequency is too fast to be observed! Indeed, we have set the clock divider output to oscillate at 2kHz, which is too high for our eyes to see. \n",
    "\n",
    "We could go back to Vivado and slow down this clock (divider output)), but it would take long to regenerate the bitstream! Instead we can  reduce the PS output clock frequency!\n",
    "\n",
    "\n",
    "* Import the class **Clocks** and reduce the PS output clock to 1MHz. Now you can watch the LEDs blink! "
   ]
  },
  {
   "cell_type": "code",
   "execution_count": null,
   "metadata": {
    "collapsed": true
   },
   "outputs": [],
   "source": [
    "from pynq import Clocks\n",
    "Clocks.fclk0_mhz=1\n",
    "print(f'FCLK0:{Clocks.fclk0_mhz:.6f}MHz')"
   ]
  },
  {
   "cell_type": "markdown",
   "metadata": {},
   "source": [
    "* You can test both directions and then stop the counter!"
   ]
  },
  {
   "cell_type": "code",
   "execution_count": null,
   "metadata": {
    "collapsed": true
   },
   "outputs": [],
   "source": [
    "right.write(0) #Direction is right\n",
    "stop.write(1) #The counter is not stopped - it is running"
   ]
  },
  {
   "cell_type": "code",
   "execution_count": null,
   "metadata": {
    "collapsed": true
   },
   "outputs": [],
   "source": [
    "stop.write(0) #Stop the counter"
   ]
  },
  {
   "cell_type": "markdown",
   "metadata": {},
   "source": [
    "* **Exit** Vivado."
   ]
  },
  {
   "cell_type": "markdown",
   "metadata": {},
   "source": [
    "________________\n"
   ]
  },
  {
   "cell_type": "markdown",
   "metadata": {},
   "source": [
    "## Step 2 - Create a Vivado Overlay with an AXI interface IP ##\n",
    "\n",
    "\n",
    "## Step 2.1 ##\n",
    "\n",
    "Lets first create a simple adder IP with AXI interface.\n",
    "\n",
    "* Create a new Vivado RTL Project named **lab9_axi** within {labs}, targeting PYNQ-Z2 board as usual.\n",
    "\n",
    "\n",
    "![Figure](../lab9/lab9_figures/fig7.png)\n",
    "\n",
    "\n",
    "* In the *Sources* pane, click **Add sources** and add the verilog file **axi_adder.v** provided in **{sources}\\lab9**. This adder has two 4 bit inputs and one 5 bit output, although the **width** parameter is configurable.\n",
    "\n",
    "\n",
    "* In the *Flow Navigator -> Project Manager* select **Settings**. In the **General** tab make sure the *Target Language* is set to **verilog** and click **OK**.\n",
    "\n",
    "\n",
    "* Now we have to pack this IP with an AXI interface. To do that, go to **Tools -> Create and Package New IP** and click **Next**.\n",
    "\n",
    "\n",
    "* Select **Create a new AXI4 peripheral** and click **Next**.\n",
    "\n",
    "\n",
    "* In the *Peripheral Details* window make the following changes and click **Next**:\n",
    "    * Name: *axi_adder*\n",
    "    * Description: *Adder IP with AXI lite interface*\n",
    "    * IP location: *{labs}/MyIps_Repo/axi_adder_ip \n",
    "    \n",
    "    \n",
    "* Leave all the defaults in *Add Interfaces* window as we want to create only one, simple 32 bits slave AXI Lite interface. We could configure only 3 registers as we have only 3 signals in the adder (a, b and c), but you can also leave it with 4 registers. Click **Next**.\n",
    "\n",
    "\n",
    "![Figure](../lab9/lab9_figures/fig8.png)\n",
    "\n",
    "\n",
    "* Before you finish, check the **Edit IP** box to edit the IP before it is packages to the repository. Click **Finish**.\n",
    "\n",
    "\n",
    "A new project will open to let you edit your IP. Before we take on any configuration steps we need first to edit the AXI interface verilog file in order to connect the **axi_adder module** to the **AXI_interface module**. Our IP (**axi_adder_v1**) will include both modules as shown in the figure bellow, and we will  have to manually define parameter **WIDTH** in all modules and make the connections.\n",
    "\n",
    "![Figure](../lab9/lab9_figures/fig15.png)\n",
    "\n",
    "\n",
    "* In the *Sources* pane, open the **axi_adder_v1_0** hierarchy and double-click to open the file **axi_adder_v1_0_S00_AXI.v**. You have to change a few things here, namelly:\n",
    "    * Define parameter **WIDTH**\n",
    "    * Define ports **a**, **b** and **c**\n",
    "    * Define internal wires (**a_wire**, **b_wire** and **c_wire**)\n",
    "    * Connect the ports to internal wires\n",
    "    * Connect the wires to internal registers (**reg0**, **reg1** and **reg2**)\n",
    "\n",
    "\n",
    "* Between line 6 and 8, define the **WIDTH** parameter, and between lines 17 and 19, define the **user ports**. Complete the code as shown in the figure.\n",
    "\n",
    "<div class=\"alert alert-block alert-info\">\n",
    "<b>Note:</b> User ports are the connection between the AXI interface and the adder. For that reason, the adder inputs (**a** and **b**) are the AXI interface outputs and the adder output **c** is the AXI interface input port.\n",
    "</div>\n",
    "\n",
    "![Figure](../lab9/lab9_figures/fig9.png)\n",
    "\n",
    "\n",
    "* Enter the following code lines to define wire buses (called signals in vhdl).\n",
    "\n",
    "\n",
    "![Figure](../lab9/lab9_figures/fig10.png)\n",
    "\n",
    "\n",
    "* At the end of the file, assign **c_wire** to the output register and the content of AXI registers to the first bits of the **a_wire** and **b_wire** buses. \n",
    "\n",
    "\n",
    "![Figure](../lab9/lab9_figures/fig20.png)\n",
    "\n",
    "![Figure](../lab9/lab9_figures/fig11.png)\n",
    "\n",
    "\n",
    "* Now open the top level file **axi_adder_v1_0.v** and add the width parameter at line 7. Also, pass the parameter WIDTH to the AXI interface at line 48.\n",
    "\n",
    "![Figure](../lab9/lab9_figures/fig12.png)\n",
    "\n",
    "\n",
    "* In the *Sources* pane, select **Add Design Sources** and add the **axi_adder.v** file. You can locate this file in `{labs}\\lab9_axi\\lab9_axi.srcs\\sources_1\\imports\\lab9`.\n",
    "\n",
    "\n",
    "* Now, instantiate the axi_adder in the **axi_adder_v1_0** file and connect it to the AXI slave interface, as shown in the figure.\n",
    "\n",
    "![Figure](../lab9/lab9_figures/fig13.png)\n",
    "\n",
    "\n",
    "* Save the both verilog files and note the the hierarchy is now correct. The axi_adder_IP includes the adder and the slave AXI interface, as shown bellow.\n",
    "\n",
    "\n",
    "![Figure](../lab9/lab9_figures/fig14.png)\n",
    "\n",
    "\n",
    "* Close the verilog files and **Run Synthesis** to make sure everything was done correctly.\n",
    "\n",
    "\n",
    "\n",
    "### Step 2.2 ###\n",
    "\n",
    "Observe now the **Package IP - axi_adder** window, which includes several IP Packaging steps:\n",
    "\n",
    "1. **Identification**: Information used to identify your IP\n",
    "2. **Compatibility**: Configure the parts and/or families of Xilinx devices that are compatible with your IP\n",
    "3. **File Groups**: Individual files for your IP are grouped into specific file groups\n",
    "4. **Customization Parameters**: Specify the parameters to customize your IP, if any\n",
    "5. **Ports and Interfaces**: Top-level ports and interfaces for your IP\n",
    "6. **Addressing and Memory**: Specify the memory-maps or address spaces, if it applies\n",
    "7. **Customization GUI**: Configure the parameters that appear on each page of the Customization GUI\n",
    "8. **Review and Package**: Summary of the IP and repackaging\n",
    "\n",
    "\n",
    "<div class=\"alert alert-block alert-info\">\n",
    "<b>Note:</b> If for some reasoon you have closed this window you can open it again. Just go to *Sources* window, click *Hierachy tab* and double click **IP-XACT->component.xml**.\n",
    "</div>\n",
    "\n",
    "* In **Identification** tab you can add some information according to the figure bollow. Also, make sure the **zynq** family is defined as compatible to this IP in the **Compatibility** tab.\n",
    "\n",
    "![Figure](../lab9/lab9_figures/fig16.png)\n",
    "\n",
    "\n",
    "* In the **Customization Parameters** tab, click on the warning message to *Merge changes from Customization Parameters Wizard*. This will add the parameter **WIDTH** to the module's customizable parameters.\n",
    "\n",
    "\n",
    "Note that the AXI data bus width is 32 and the AXI address bus width is 4. These are default values for the AXI stardard, so they should not be customizable by the user. Also, base and high addresses should not be customizable.\n",
    "\n",
    "\n",
    "* Right-click **C_S00_AXI_DATA_WIDTH**, choose to **edit** and make it invisible. Repeat the same procedure to **C_S00_AXI_BASEADDR** and **C_S00_AXI_HIGHADDR**.\n",
    "\n",
    "\n",
    "![Figure](../lab9/lab9_figures/fig17.png)\n",
    "\n",
    "\n",
    "* Now right-click **C S00 AXI ADDR WIDTH**, choose to **edit**, make it invisible and do not specify range.\n",
    "\n",
    "\n",
    "* The only parameter you want to be visible to the user is the **WIDTH**. So, edit it and:\n",
    "    * Make it visible\n",
    "    * Change the display name to *Number of bits per input*\n",
    "    * Specify range: Integers, minimum 2 and maximum 16\n",
    "\n",
    "\n",
    "* See if the module's **Customization GUI** looks correct and all the information in **Review and Package** is ok. \n",
    "\n",
    "\n",
    "* In this last tab you can edit the name and location of the IP archive. Click **edit** and simplify the IP name just as **axi_adder_1.0**. click **OK**.\n",
    "\n",
    "\n",
    "* You can also **Edit packaging settings**, but defaults are usually fine. You can now click the button **Re-Pakage IP**. Once successful, you can close the current Vivado project (*Edit IP project*).\n",
    "\n"
   ]
  },
  {
   "cell_type": "markdown",
   "metadata": {},
   "source": [
    "\n",
    "## Step 2.3 ##\n",
    "\n",
    "Go back to your **lab9_axi** Vivado projet and hook up your IP to the processing system.\n",
    "\n",
    "\n",
    "* In the *Flow Navigator* choose settings, and then **IP -> Repository**. In that window make sure you have the **MyIps_Repo/axi_adder_1.0** added to the list and click **OK**.\n",
    "\n",
    "\n",
    "* Create a new *Block Design* with the name **lab9_axi_top** with a ZYNQ7 processing system and a processor system reset. **Run Block Automation** with the default options and then **Run Connection Automation** to make the connections between the blocks.\n",
    "\n",
    "\n",
    "* **Add IP** and search for the axi_adder in the library. Double-click to add this IP to the design.\n",
    "\n",
    "![Figure](../lab9/lab9_figures/fig18.png)\n",
    "\n",
    "\n",
    "* Add an **AXI interconnect** IP to the design, in order to be able to connect the adder with the processor. Customize it to have only one AXI Master and one AXI Slave interface.\n",
    "\n",
    "\n",
    "* Double click the processor and make sure the master AXI GP0 interface is enabled. In the **PS-PL Configuration** tab, go to **AXI Non Secure Enablement -> GP Master AXI Interface -> M AXI GP0 interface** and make sure the box is checked.\n",
    "\n",
    "\n",
    "* **Run Connection Automation** and **Regenerate Layout**. You should have the following diagram. Validate the design and **save** it if it passes validation successfuly.\n",
    "\n",
    "\n",
    "![Figure](../lab9/lab9_figures/fig19.png)\n",
    "\n",
    "\n",
    "* Create an **HDL Wrapper** for the board design and run **Generate Bitstream**.\n",
    "\n",
    "\n",
    "\n",
    "## Step 2.4##\n",
    "\n",
    "\n",
    "* If not aleady, **power-on** the PYNQ board, wait for boot to complete and then connect to the board using any browser of your choice.\n",
    "\n",
    "\n",
    "* Navigate to folder **pynq_labs/lab9/bitstream** within PYNQ-Z2 Jupyter explorer window.\n",
    "\n",
    "\n",
    "* Using windows explorer go to Vivado lab9_axi project's folder `{labs}\\lab9_axi\\lab9_axi.runs\\impl_1`, locate the **lab9_axi_top_wrapper.bit** file and upload it to the PYNQ folder **lab9/bitstream**. Rename it simply as **lab9_axi.bit**.\n",
    "\n",
    "\n",
    "* Using windows explorer go to Vivado lab9_axi project's folder `{labs}\\lab9_axi\\lab9_axi.srcs\\sources_1\\bd\\lab9_axi_top\\hw_handoff`, locate the **lab9_axi_top.hwh** file and upload it to the PYNQ folder **lab9/bitstream**. \n",
    "\n",
    "\n",
    "* Go back to Vivado and select **File -> Export -> Export Block Design** and click **OK**. This will create a **lab9_axi_top.tcl** file in your working directory. Upload this file too, with the same name.\n",
    "\n",
    "\n",
    "* Make sure you have uploaded all files to ZYNQ folder **lab9/bitstream** (**.bit**, **.tcl** and **.hwh** which should have the same name: **lab9_axi**).\n",
    "\n",
    "\n",
    "* Start by importing the overlay, running the following:"
   ]
  },
  {
   "cell_type": "code",
   "execution_count": null,
   "metadata": {
    "collapsed": true
   },
   "outputs": [],
   "source": [
    "from pynq import Overlay\n",
    "ol=Overlay(\"./bitstream/lab9_axi.bit\")"
   ]
  },
  {
   "cell_type": "markdown",
   "metadata": {},
   "source": [
    "* Use a question mark to find out what is in the overlay."
   ]
  },
  {
   "cell_type": "code",
   "execution_count": null,
   "metadata": {
    "collapsed": true
   },
   "outputs": [],
   "source": [
    "ol?"
   ]
  },
  {
   "cell_type": "markdown",
   "metadata": {},
   "source": [
    "\n",
    "<div class=\"alert alert-block alert-info\">\n",
    "<b>Loading an Overlay:</b> When and Overlay is loaded using the **pynq.Overlay** function, all of the IP and hierarchies in the overlay will have drivers assigned to them and used to construct an object hierarchy. The IP can then be accessed via attributes on the returned overlay class using the names of the IP and hierarchies in the block diagram.\n",
    "</div>\n"
   ]
  },
  {
   "cell_type": "markdown",
   "metadata": {},
   "source": [
    "* Check what has been exposed in this overlay by runing the IP dictionary. Note that the IP has the name **axi_adder_0**."
   ]
  },
  {
   "cell_type": "code",
   "execution_count": null,
   "metadata": {
    "collapsed": true
   },
   "outputs": [],
   "source": [
    "ol.ip_dict"
   ]
  },
  {
   "cell_type": "markdown",
   "metadata": {},
   "source": [
    "\n",
    "<div class=\"alert alert-block alert-info\">\n",
    "<b>The Default API:</b> If no driver has been specified for a type of IP then a DefaultIP will be instantiated offering read and write functions to access the IP’s address space and named accessors to any interrupts or GPIO pins connected to the IP.\n",
    "</div>\n",
    "\n"
   ]
  },
  {
   "cell_type": "markdown",
   "metadata": {},
   "source": [
    "* Write some values to inputs **a** and **b**. Note that these inputs are written as 32 bit words because we are using a 32bit AXI interface."
   ]
  },
  {
   "cell_type": "code",
   "execution_count": null,
   "metadata": {
    "collapsed": true
   },
   "outputs": [],
   "source": [
    "ol.axi_adder_0.write(0x0 , 1)   # write a=1 in baseaddress\n",
    "ol.axi_adder_0.write(0x4 , 2)   # write b=2 in baseaddress + 4 bytes"
   ]
  },
  {
   "cell_type": "markdown",
   "metadata": {},
   "source": [
    "* Read the output **c** from the AXI interface."
   ]
  },
  {
   "cell_type": "code",
   "execution_count": null,
   "metadata": {
    "collapsed": true
   },
   "outputs": [],
   "source": [
    "ol.axi_adder_0.read(0x8)   # read c from baseaddress + 8 bytes"
   ]
  },
  {
   "cell_type": "markdown",
   "metadata": {},
   "source": [
    "* Write sequencial values to inputs **a** and **b** and read the adder output."
   ]
  },
  {
   "cell_type": "code",
   "execution_count": null,
   "metadata": {
    "collapsed": true
   },
   "outputs": [],
   "source": [
    "for i in range(10):\n",
    "    ol.axi_adder_0.write(0x0 , i) \n",
    "    ol.axi_adder_0.write(0x4 , i) \n",
    "    print(ol.axi_adder_0.read(0x8))"
   ]
  },
  {
   "cell_type": "markdown",
   "metadata": {},
   "source": [
    "While the **UnknownIP** driver is useful for determining that the IP is working, it is not the most user-friendly API to expose to the eventual end-users of the overlay. Ideally we want to create an IP-specific driver exposing a single **add** function to call the accelerator. \n",
    "\n",
    "Custom drivers are created by inheriting from **UnknownIP** and adding a **bindto** class attribute consisting of the IP types the driver should bind to. The constructor of the class should take a single **description** parameter and pass it through to the super class **__init__**. The description is a dictionary containing the address map and any interrupts and GPIO pins connected to the IP.\n",
    "\n",
    "* Run the following cell:"
   ]
  },
  {
   "cell_type": "code",
   "execution_count": null,
   "metadata": {
    "collapsed": true
   },
   "outputs": [],
   "source": [
    "from pynq import DefaultIP\n",
    "\n",
    "class AddDriver(DefaultIP):\n",
    "    def __init__(self, description):\n",
    "            super().__init__(description=description)\n",
    "            \n",
    "    bindto = ['MEE_EC:user:axi_adder:1.0']\n",
    "    \n",
    "    def add(self, a, b):\n",
    "        self.write(0x00,a)\n",
    "        self.write(0x04,b)\n",
    "        return self.read(0x08)"
   ]
  },
  {
   "cell_type": "markdown",
   "metadata": {},
   "source": [
    "* Now if we reload the overlay and query the help again we can see that our new driver is bound to the IP"
   ]
  },
  {
   "cell_type": "code",
   "execution_count": null,
   "metadata": {
    "collapsed": true
   },
   "outputs": [],
   "source": [
    "ol = Overlay(\"./bitstream/lab9_axi.bit\")\n",
    "ol?"
   ]
  },
  {
   "cell_type": "markdown",
   "metadata": {},
   "source": [
    "* And we can access the same way as before except now our custom driver with an **add** function is created instead of DefaultIP."
   ]
  },
  {
   "cell_type": "code",
   "execution_count": null,
   "metadata": {
    "collapsed": true
   },
   "outputs": [],
   "source": [
    "ol.axi_adder_0.add(12,9)"
   ]
  },
  {
   "cell_type": "markdown",
   "metadata": {},
   "source": [
    "______"
   ]
  },
  {
   "cell_type": "markdown",
   "metadata": {},
   "source": [
    "## Challenge ##"
   ]
  },
  {
   "cell_type": "markdown",
   "metadata": {},
   "source": [
    "The Challenge now is to create a SoC design, with a Processor System and the hardware design created in lab4 - Step 3. The idea is to have the PS controlling the filter coeficient set used by the FIR Compiler (replacing the switches) and therefore change the signal sent to the DAC. \n",
    "\n",
    "* Open lab4 project and save it as **lab9hlge**.\n",
    "\n",
    "* Add a ZYNQ PS and use its Fabric clock zero (**FCLK_CLK0**) as input to the clock wizard (inside the **Clock_Synth**). Change it to 125MHz to match the clock frequency you had as input in lab4.\n",
    "\n",
    "* Use the PS reset (**FCLK_RESET0_N**) as input to the **Clock_Synth**. Note however that this is an active low reset and thus you will have to switch the position of the inverter inside the hierarchical module.\n",
    "\n",
    "* Replace the input comming from the swithes with the PS GPIO output port.\n",
    "\n",
    "* Save the Bard Design with a new name and create a new wrapper.\n",
    "\n",
    "* You should get something like this:\n",
    "\n",
    "![Figure](../lab9/lab9_figures/fig21.png)"
   ]
  },
  {
   "cell_type": "markdown",
   "metadata": {},
   "source": [
    "* Make a simple Python program to ask the user to select a filter and check out what happens with ILA or with a scope connected to DA2board!"
   ]
  },
  {
   "cell_type": "code",
   "execution_count": null,
   "metadata": {
    "collapsed": true
   },
   "outputs": [],
   "source": []
  }
 ],
 "metadata": {
  "kernelspec": {
   "display_name": "Python 3",
   "language": "python",
   "name": "python3"
  },
  "language_info": {
   "codemirror_mode": {
    "name": "ipython",
    "version": 3
   },
   "file_extension": ".py",
   "mimetype": "text/x-python",
   "name": "python",
   "nbconvert_exporter": "python",
   "pygments_lexer": "ipython3",
   "version": "3.6.3"
  }
 },
 "nbformat": 4,
 "nbformat_minor": 2
}
